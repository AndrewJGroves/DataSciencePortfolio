{
 "cells": [
  {
   "cell_type": "markdown",
   "metadata": {},
   "source": [
    "# U.S. Medical Insurance Costs"
   ]
  },
  {
   "cell_type": "markdown",
   "metadata": {},
   "source": [
    "This project will use only the csv package to analyis US insureance costs. Its aim is to gain insight to see if any other analysis could be done on this data set.                \n",
    "The data set comes from Codecademy."
   ]
  },
  {
   "cell_type": "code",
   "execution_count": 9,
   "metadata": {},
   "outputs": [],
   "source": [
    "import csv"
   ]
  },
  {
   "cell_type": "markdown",
   "metadata": {},
   "source": [
    "First the csv package needs to be imported."
   ]
  },
  {
   "cell_type": "markdown",
   "metadata": {},
   "source": [
    "**insurance.csv** contains the following columns:\n",
    "* Patient Age\n",
    "* Patient Sex \n",
    "* Patient BMI\n",
    "* Patient Number of Children\n",
    "* Patient Smoking Status\n",
    "* Patient U.S Geopraphical Region\n",
    "* Patient Yearly Medical Insurance Cost\n",
    " \n",
    "There are no signs of missing data. To store this information, seven empty lists will be created hold each individual column of data from **insurance.csv**.      \n",
    "A list is made for these attributes"
   ]
  },
  {
   "cell_type": "code",
   "execution_count": 10,
   "metadata": {},
   "outputs": [],
   "source": [
    "ages = []\n",
    "sexes = []\n",
    "bmis = []\n",
    "num_children = []\n",
    "smoker_status = []\n",
    "regions = []\n",
    "insurance_charges = []"
   ]
  },
  {
   "cell_type": "markdown",
   "metadata": {},
   "source": [
    "A function is then made to allow for each attribute to be filled "
   ]
  },
  {
   "cell_type": "code",
   "execution_count": 11,
   "metadata": {},
   "outputs": [],
   "source": [
    "def readColumn(lis,csvfile,name):\n",
    "    with open(csvfile, mode='r') as csv_file:\n",
    "        csv_reader = csv.DictReader(csv_file)\n",
    "        line_count = 0\n",
    "        for row in csv_reader:\n",
    "            lis.append(row[name])\n",
    "    return lis"
   ]
  },
  {
   "cell_type": "markdown",
   "metadata": {},
   "source": [
    "Then call the function to fill each list."
   ]
  },
  {
   "cell_type": "code",
   "execution_count": 12,
   "metadata": {},
   "outputs": [],
   "source": [
    "%%capture\n",
    "readColumn(ages,'./Data/insurance.csv', 'age')\n",
    "readColumn(sexes, './Data/insurance.csv', 'sex')\n",
    "readColumn(bmis, './Data/insurance.csv', 'bmi')\n",
    "readColumn(num_children, './Data/insurance.csv', 'children')\n",
    "readColumn(smoker_status, './Data/insurance.csv', 'smoker')\n",
    "readColumn(regions, './Data/insurance.csv', 'region')\n",
    "readColumn(insurance_charges, './Data/insurance.csv', 'charges')"
   ]
  },
  {
   "cell_type": "markdown",
   "metadata": {},
   "source": [
    "Now that all the data from **insurance.csv** neatly organized into labeled lists, the analysis can be started. There are many aspects of the data that could be looked into. The following operations will be implemented:\n",
    "* find average age of the patients\n",
    "* return the number of males vs. females counted in the dataset\n",
    "* find geographical location of the patients\n",
    "* return the average yearly medical charges of the patients\n",
    "* Find out what ages smoke more\n",
    "\n",
    "To do this is class will be made and functions implimented"
   ]
  },
  {
   "cell_type": "code",
   "execution_count": 39,
   "metadata": {},
   "outputs": [],
   "source": [
    "class PaintentInfo:\n",
    "    # This is where you feed in the information so that the class knows\n",
    "    def __init__(self, patients_ages, patients_sexes, patients_bmis, patients_num_children, \n",
    "                 patients_smoker_status, patients_regions, patients_charges):\n",
    "        self.patients_ages = patients_ages\n",
    "        self.patients_sexes = patients_sexes\n",
    "        self.patients_bmis = patients_bmis\n",
    "        self.patients_num_children = patients_num_children\n",
    "        self.patients_smoker_status = patients_smoker_status\n",
    "        self.patients_regions = patients_regions\n",
    "        self.patients_charges = patients_charges\n",
    "\n",
    "    # method that calculates the average ages of the patients in insurance.csv\n",
    "    def average_age(self):\n",
    "        total_age = 0\n",
    "        for age in self.patients_ages:\n",
    "            total_age += int(age)\n",
    "        # Prints uses the round method for only 2 decimal places and converts the output to a string\n",
    "        return (\"Average Patient Age: \" + str(round(total_age/len(self.patients_ages), 2)) + \" years\")\n",
    "\n",
    "    # method that calculates the number of males and females in insurance.csv\n",
    "    def num_sexes(self):\n",
    "        females = 0\n",
    "        males = 0\n",
    "        for sex in self.patients_sexes:\n",
    "            if sex == 'female':\n",
    "                females += 1\n",
    "            else:\n",
    "                males += 1\n",
    "        print(\"Count for female: \", females)\n",
    "        print(\"Count for male: \", males)\n",
    "\n",
    "    # method to find each unique region patients are from\n",
    "    def unique_regions(self):\n",
    "        unique_regions = []\n",
    "        for region in self.patients_regions:\n",
    "            if region not in unique_regions: \n",
    "                unique_regions.append(region)\n",
    "        return unique_regions\n",
    "\n",
    "    # method to find average yearly medical charges for patients in insurance.csv\n",
    "    def average_charges(self):\n",
    "        total_charges = 0\n",
    "        for charge in self.patients_charges:\n",
    "            total_charges += float(charge)\n",
    "        return (\"Average Yearly Medical Insurance Charges: \" +  \n",
    "                str(round(total_charges/len(self.patients_charges), 2)) + \" dollars.\")\n",
    "\n",
    "    def smoking(self):\n",
    "        ag=['0-10','10-20','20-30','30-40','40-50','50-60','60-70','70-80','80-90','90-100']\n",
    "        ages=[0]*10\n",
    "        smoker=[0]*10\n",
    "        for page, smoke in zip(self.patients_ages,self.patients_smoker_status):\n",
    "            age=int(page)\n",
    "            if(age < 10): \n",
    "                ages[0]+=1\n",
    "                if(smoke == 'yes'): smoker[0]+=1\n",
    "            elif(age < 20): \n",
    "                ages[1]+=1;\n",
    "                if(smoke == 'yes'): smoker[1]+=1\n",
    "            elif(age < 30): \n",
    "                ages[2]+=1;  \n",
    "                if(smoke == 'yes'): smoker[2]+=1\n",
    "            elif(age < 40): \n",
    "                ages[3]+=1;\n",
    "                if(smoke == 'yes'): smoker[3]+=1\n",
    "            elif(age < 50): \n",
    "                ages[4]+=1;\n",
    "                if(smoke == 'yes'): smoker[4]+=1\n",
    "            elif(age < 60): \n",
    "                ages[5]+=1;\n",
    "                if(smoke == 'yes'): smoker[5]+=1\n",
    "            elif(age < 70): \n",
    "                ages[6]+=1;\n",
    "                if(smoke == 'yes'): smoker[6]+=1\n",
    "            elif(age < 80): \n",
    "                ages[7]+=1;\n",
    "                if(smoke == 'yes'): smoker[7]+=1\n",
    "            elif(age < 90): \n",
    "                ages[8]+=1;\n",
    "                if(smoke == 'yes'): smoker[8]+=1\n",
    "            else: \n",
    "                ages[9]+=1;\n",
    "                if(smoke == 'yes'): smoker[9]+=1\n",
    "        for i in range(len(ages)):\n",
    "            print(f'The number of people in age range {ag[i]} is {ages[i]} and the number of smokers are {smoker[i]}')"
   ]
  },
  {
   "cell_type": "code",
   "execution_count": 40,
   "metadata": {},
   "outputs": [],
   "source": [
    "patient_info = PaintentInfo(ages, sexes, bmis, num_children, smoker_status, regions, insurance_charges)"
   ]
  },
  {
   "cell_type": "code",
   "execution_count": 41,
   "metadata": {},
   "outputs": [
    {
     "data": {
      "text/plain": [
       "'Average Patient Age: 39.21 years'"
      ]
     },
     "execution_count": 41,
     "metadata": {},
     "output_type": "execute_result"
    }
   ],
   "source": [
    "patient_info.average_age()"
   ]
  },
  {
   "cell_type": "code",
   "execution_count": 42,
   "metadata": {},
   "outputs": [
    {
     "name": "stdout",
     "output_type": "stream",
     "text": [
      "Count for female:  662\n",
      "Count for male:  676\n"
     ]
    }
   ],
   "source": [
    "patient_info.num_sexes()"
   ]
  },
  {
   "cell_type": "code",
   "execution_count": 43,
   "metadata": {},
   "outputs": [
    {
     "data": {
      "text/plain": [
       "['southwest', 'southeast', 'northwest', 'northeast']"
      ]
     },
     "execution_count": 43,
     "metadata": {},
     "output_type": "execute_result"
    }
   ],
   "source": [
    "patient_info.unique_regions()"
   ]
  },
  {
   "cell_type": "code",
   "execution_count": 44,
   "metadata": {},
   "outputs": [
    {
     "data": {
      "text/plain": [
       "'Average Yearly Medical Insurance Charges: 13270.42 dollars.'"
      ]
     },
     "execution_count": 44,
     "metadata": {},
     "output_type": "execute_result"
    }
   ],
   "source": [
    "patient_info.average_charges()"
   ]
  },
  {
   "cell_type": "code",
   "execution_count": 45,
   "metadata": {},
   "outputs": [
    {
     "name": "stdout",
     "output_type": "stream",
     "text": [
      "The number of people in age range 0-10 is 0 and the number of smokers are 0\n",
      "The number of people in age range 10-20 is 137 and the number of smokers are 30\n",
      "The number of people in age range 20-30 is 280 and the number of smokers are 56\n",
      "The number of people in age range 30-40 is 257 and the number of smokers are 58\n",
      "The number of people in age range 40-50 is 279 and the number of smokers are 62\n",
      "The number of people in age range 50-60 is 271 and the number of smokers are 41\n",
      "The number of people in age range 60-70 is 114 and the number of smokers are 27\n",
      "The number of people in age range 70-80 is 0 and the number of smokers are 0\n",
      "The number of people in age range 80-90 is 0 and the number of smokers are 0\n",
      "The number of people in age range 90-100 is 0 and the number of smokers are 0\n"
     ]
    }
   ],
   "source": [
    "patient_info.smoking()"
   ]
  },
  {
   "cell_type": "code",
   "execution_count": null,
   "metadata": {},
   "outputs": [],
   "source": []
  }
 ],
 "metadata": {
  "kernelspec": {
   "display_name": "Python 3 (ipykernel)",
   "language": "python",
   "name": "python3"
  },
  "language_info": {
   "codemirror_mode": {
    "name": "ipython",
    "version": 3
   },
   "file_extension": ".py",
   "mimetype": "text/x-python",
   "name": "python",
   "nbconvert_exporter": "python",
   "pygments_lexer": "ipython3",
   "version": "3.9.6"
  }
 },
 "nbformat": 4,
 "nbformat_minor": 4
}
