{
 "cells": [
  {
   "cell_type": "markdown",
   "id": "2734de69-5ac0-4637-b8a5-632f4a0ada92",
   "metadata": {},
   "source": [
    "# Classication using MNIST\n",
    "Ther aim of this project is to use the MNIST dataset to get a understanding of classication"
   ]
  },
  {
   "cell_type": "code",
   "execution_count": 2,
   "id": "d105add9-6e22-4f5e-91f7-b863ddc8ec25",
   "metadata": {},
   "outputs": [
    {
     "data": {
      "text/plain": [
       "dict_keys(['data', 'target', 'frame', 'categories', 'feature_names', 'target_names', 'DESCR', 'details', 'url'])"
      ]
     },
     "execution_count": 2,
     "metadata": {},
     "output_type": "execute_result"
    }
   ],
   "source": [
    "from sklearn.datasets import fetch_openml\n",
    "mnist = fetch_openml('mnist_784',version=1, as_frame=False)\n",
    "mnist.keys()"
   ]
  },
  {
   "cell_type": "markdown",
   "id": "625196c5-8a02-43c5-98aa-d63f215f01ba",
   "metadata": {},
   "source": [
    "The dataset is not loaded and we can look first at how many entries and then look at what one of entries is "
   ]
  },
  {
   "cell_type": "code",
   "execution_count": 3,
   "id": "e3869203-5214-448d-8a48-414ecfe27469",
   "metadata": {},
   "outputs": [
    {
     "name": "stdout",
     "output_type": "stream",
     "text": [
      "Shape of X (70000, 784)\n",
      "Shape of y (70000,)\n"
     ]
    }
   ],
   "source": [
    "X= mnist[\"data\"]\n",
    "y=mnist[\"target\"]\n",
    "print(\"Shape of X\",X.shape)\n",
    "print(\"Shape of y\",y.shape)"
   ]
  },
  {
   "cell_type": "code",
   "execution_count": 4,
   "id": "741bd3d0-7380-4f37-9766-5ef446828ab7",
   "metadata": {},
   "outputs": [
    {
     "data": {
      "image/png": "[encoded data removed]",
      "text/plain": [
       "<Figure size 432x288 with 1 Axes>"
      ]
     },
     "metadata": {
      "needs_background": "light"
     },
     "output_type": "display_data"
    }
   ],
   "source": [
    "import matplotlib as mpl\n",
    "import matplotlib.pyplot as plt\n",
    "digit=X[5]\n",
    "digit_image=digit.reshape(28,28)\n",
    "plt.imshow(digit_image,cmap=mpl.cm.binary)\n",
    "plt.axis(\"off\")\n",
    "plt.show()"
   ]
  },
  {
   "cell_type": "code",
   "execution_count": 5,
   "id": "8cbf07fb-03e8-4224-94cf-4bdffcaea786",
   "metadata": {},
   "outputs": [
    {
     "data": {
      "text/plain": [
       "'2'"
      ]
     },
     "execution_count": 5,
     "metadata": {},
     "output_type": "execute_result"
    }
   ],
   "source": [
    "y[5]"
   ]
  },
  {
   "cell_type": "markdown",
   "id": "b868d4db-3d7b-41b9-85c3-ff0b0049818b",
   "metadata": {},
   "source": [
    "The image looks like a 5 and the label is a 5 so thats a good start. We will also cast the y list to a int and right now its a string"
   ]
  },
  {
   "cell_type": "code",
   "execution_count": 6,
   "id": "3a968526-1f9f-4a22-9ebe-0162bab4c036",
   "metadata": {},
   "outputs": [],
   "source": [
    "import numpy as np\n",
    "y=y.astype(np.uint8)"
   ]
  },
  {
   "cell_type": "markdown",
   "id": "18c717c1-c62c-49df-973f-06792e555483",
   "metadata": {},
   "source": [
    "Now we have some understanding of the dataset we can start to look at modeling. However first we need to slipt the data into a test and train set. This is already done for this data set with the first 60,000 being the train set."
   ]
  },
  {
   "cell_type": "code",
   "execution_count": 7,
   "id": "e2b800f7-17b1-4b7d-b6bd-f1a8d6193417",
   "metadata": {},
   "outputs": [],
   "source": [
    "X_train, X_test, y_train, y_test = X[:60000], X[60000:], y[:60000], y[60000:]"
   ]
  },
  {
   "cell_type": "markdown",
   "id": "15b77663-79ff-4217-9af5-22b4a65a1ce6",
   "metadata": {},
   "source": [
    "## Binary Classifier\n",
    "First we will look at binary classifier for simplicity, we will make a number 2 classifer. I will use the Stochastic Gradient Desent classifer which allows for handling of large data set."
   ]
  },
  {
   "cell_type": "code",
   "execution_count": 8,
   "id": "a347a1b8-1c21-4ce9-ae8d-72e5426195f6",
   "metadata": {},
   "outputs": [],
   "source": [
    "y_train_2=(y_train == 2)\n",
    "y_test_2=(y_test == 2)"
   ]
  },
  {
   "cell_type": "code",
   "execution_count": 9,
   "id": "e3b49742-ea89-41db-9d35-a9be7e5307f1",
   "metadata": {},
   "outputs": [
    {
     "data": {
      "text/plain": [
       "SGDClassifier(random_state=42)"
      ]
     },
     "execution_count": 9,
     "metadata": {},
     "output_type": "execute_result"
    }
   ],
   "source": [
    "from sklearn.linear_model import SGDClassifier\n",
    "\n",
    "sgd_clf = SGDClassifier(random_state=42)\n",
    "sgd_clf.fit(X_train,y_train_2)"
   ]
  },
  {
   "cell_type": "code",
   "execution_count": 10,
   "id": "098af506-133a-43c5-ac3f-0a3841daaa95",
   "metadata": {},
   "outputs": [
    {
     "data": {
      "text/plain": [
       "array([ True])"
      ]
     },
     "execution_count": 10,
     "metadata": {},
     "output_type": "execute_result"
    }
   ],
   "source": [
    "sgd_clf.predict([digit])"
   ]
  },
  {
   "cell_type": "markdown",
   "id": "84536411-2699-405e-b75e-22f4332c40fd",
   "metadata": {},
   "source": [
    "This modle correclty predicts that the digit image from abouve is a 2"
   ]
  },
  {
   "cell_type": "markdown",
   "id": "5e4265fb-5a8a-4975-8808-b71f7e2428d8",
   "metadata": {},
   "source": [
    "### Corss-validation\n",
    "Using k fold cross-validation is a evaluate the model we have created. This splits the taining set into a number of folds and evaluates the model on one and trains on the rest."
   ]
  },
  {
   "cell_type": "code",
   "execution_count": 11,
   "id": "fb8fd5e4-6314-438a-939b-d0d9153b1b3f",
   "metadata": {},
   "outputs": [
    {
     "data": {
      "text/plain": [
       "array([0.96645, 0.95895, 0.904  ])"
      ]
     },
     "execution_count": 11,
     "metadata": {},
     "output_type": "execute_result"
    }
   ],
   "source": [
    "from sklearn.model_selection import cross_val_score\n",
    "cross_val_score(sgd_clf, X_train, y_train_2, cv=3, scoring=\"accuracy\")"
   ]
  },
  {
   "cell_type": "markdown",
   "id": "c7d02cc7-bd3f-4e1b-86ec-6c3a1fac7abc",
   "metadata": {},
   "source": [
    "This is fantastic, however only around 10% of all the data are 2s. This means if we were to class all the data as no 2 we would be correct around 90% of the time. This means that accuracy is not preferred for skewed data sets. "
   ]
  },
  {
   "cell_type": "markdown",
   "id": "626dc33d-cc27-4862-810d-c10c51c4337e",
   "metadata": {},
   "source": [
    "### Confusion matrix\n",
    "A better evaluation is a confusion matrix. To be able to do this we first need to know the prediction numbers. "
   ]
  },
  {
   "cell_type": "code",
   "execution_count": 12,
   "id": "53233ec3-afe4-4780-a617-b48dfb8fa2b9",
   "metadata": {},
   "outputs": [],
   "source": [
    "from sklearn.model_selection import cross_val_predict\n",
    "y_train_pred=cross_val_predict(sgd_clf, X_train, y_train_2, cv=3)"
   ]
  },
  {
   "cell_type": "code",
   "execution_count": 13,
   "id": "3be181be-5642-4d27-a898-475aec6c17d1",
   "metadata": {},
   "outputs": [
    {
     "data": {
      "text/plain": [
       "array([[51538,  2504],\n",
       "       [  908,  5050]], dtype=int64)"
      ]
     },
     "execution_count": 13,
     "metadata": {},
     "output_type": "execute_result"
    }
   ],
   "source": [
    "from sklearn.metrics import confusion_matrix\n",
    "confusion_matrix(y_train_2, y_train_pred)"
   ]
  },
  {
   "cell_type": "markdown",
   "id": "d86ea977-8420-4117-ab97-6bcd819f8931",
   "metadata": {},
   "source": [
    "In this each column is the predicted class while each row is the actualy class. This can be usefull to make conclussions. "
   ]
  },
  {
   "cell_type": "markdown",
   "id": "6daa7958-0cb9-4c56-9bdc-b47766720702",
   "metadata": {},
   "source": [
    "### Precision and Recall \n",
    "A confusion matric is useful but sometimes it is good to have a concise metric. This can be done with precision and recall.\n"
   ]
  },
  {
   "cell_type": "code",
   "execution_count": 14,
   "id": "46714ec8-6724-4a36-922a-c0ce6a2e903b",
   "metadata": {},
   "outputs": [
    {
     "data": {
      "text/plain": [
       "0.6685199894095843"
      ]
     },
     "execution_count": 14,
     "metadata": {},
     "output_type": "execute_result"
    }
   ],
   "source": [
    "from sklearn.metrics import precision_score, recall_score\n",
    "precision_score(y_train_2, y_train_pred)"
   ]
  },
  {
   "cell_type": "code",
   "execution_count": 15,
   "id": "232f10a6-8089-429b-96cc-fd2d94721c3a",
   "metadata": {},
   "outputs": [
    {
     "data": {
      "text/plain": [
       "0.8475998657267539"
      ]
     },
     "execution_count": 15,
     "metadata": {},
     "output_type": "execute_result"
    }
   ],
   "source": [
    "recall_score(y_train_2, y_train_pred)"
   ]
  },
  {
   "cell_type": "markdown",
   "id": "b1eb710e-6861-4563-a0c5-1be2aa3c00bc",
   "metadata": {},
   "source": [
    "These can be combined into one score called the F1 score"
   ]
  },
  {
   "cell_type": "code",
   "execution_count": 16,
   "id": "d3fcb5c9-463c-448f-80ea-48c7e8733874",
   "metadata": {},
   "outputs": [
    {
     "data": {
      "text/plain": [
       "0.7474837181764358"
      ]
     },
     "execution_count": 16,
     "metadata": {},
     "output_type": "execute_result"
    }
   ],
   "source": [
    "from sklearn.metrics import f1_score\n",
    "f1_score(y_train_2, y_train_pred)"
   ]
  },
  {
   "cell_type": "markdown",
   "id": "7c67901c-f890-4c70-bb86-ebaaa35ab310",
   "metadata": {},
   "source": [
    "### Precision and recall plot\n",
    "Unfortunarty as one of these metrics increases the other decreases. This means that there is a tradeoff between the two. It is then useful to sometimes plot these and find the crossing point."
   ]
  },
  {
   "cell_type": "code",
   "execution_count": 17,
   "id": "84dcdc52-71a4-411d-97cf-c561f58665fe",
   "metadata": {},
   "outputs": [],
   "source": [
    "from sklearn.metrics import precision_recall_curve\n",
    "y_scores = cross_val_predict(sgd_clf, X_train, y_train_2, cv=3,method=\"decision_function\")\n",
    "precisions, recalls, thresholds = precision_recall_curve(y_train_2, y_scores)"
   ]
  },
  {
   "cell_type": "code",
   "execution_count": 18,
   "id": "94808d81-cde4-4266-b108-f416dc784eda",
   "metadata": {},
   "outputs": [
    {
     "data": {
      "image/png": "[encoded data removed]",
      "text/plain": [
       "<Figure size 576x288 with 1 Axes>"
      ]
     },
     "metadata": {
      "needs_background": "light"
     },
     "output_type": "display_data"
    }
   ],
   "source": [
    "def plot_precision_recall_vs_threshold(precisions, recalls, thresholds):\n",
    "    plt.plot(thresholds, precisions[:-1], \"b--\", label=\"Precision\", linewidth=2)\n",
    "    plt.plot(thresholds, recalls[:-1], \"g-\", label=\"Recall\", linewidth=2)\n",
    "    plt.legend(loc=\"center right\", fontsize=16) \n",
    "    plt.xlabel(\"Threshold\", fontsize=16)       \n",
    "    plt.grid(True)                              \n",
    "    plt.axis([-50000, 50000, 0, 1])            \n",
    "\n",
    "\n",
    "\n",
    "recall_90_precision = recalls[np.argmax(precisions >= 0.90)]\n",
    "threshold_90_precision = thresholds[np.argmax(precisions >= 0.90)]\n",
    "\n",
    "\n",
    "plt.figure(figsize=(8, 4))                                                               \n",
    "plot_precision_recall_vs_threshold(precisions, recalls, thresholds)\n",
    "plt.plot([threshold_90_precision, threshold_90_precision], [0., 0.9], \"r:\")        \n",
    "plt.plot([-50000, threshold_90_precision], [0.9, 0.9], \"r:\")                              \n",
    "plt.plot([-50000, threshold_90_precision], [recall_90_precision, recall_90_precision], \"r:\")\n",
    "plt.plot([threshold_90_precision], [0.9], \"ro\")                                          \n",
    "plt.plot([threshold_90_precision], [recall_90_precision], \"ro\")                             \n",
    "plt.show()"
   ]
  },
  {
   "cell_type": "markdown",
   "id": "81310cb1-37c3-467b-8cb7-86d1d32504f7",
   "metadata": {},
   "source": [
    "### ROC\n",
    "The final common toll used in the receiver operating charateritic plot. This plots true positive rate (recall) against false positive rate, this is the ratio of negative instances that are incorrectly classified as positive rate. "
   ]
  },
  {
   "cell_type": "code",
   "execution_count": 20,
   "id": "b13fdca5-a021-4dec-9d4a-d56495fe9abc",
   "metadata": {},
   "outputs": [
    {
     "data": {
      "image/png": "[encoded data removed]",
      "text/plain": [
       "<Figure size 432x288 with 1 Axes>"
      ]
     },
     "metadata": {
      "needs_background": "light"
     },
     "output_type": "display_data"
    }
   ],
   "source": [
    "from sklearn.metrics import roc_curve\n",
    "fpr, tpr, thresholds = roc_curve(y_train_2,y_scores)\n",
    "\n",
    "def plot_roc_curve(fpr,tpr,label=None):\n",
    "    plt.plot(fpr,tpr,linewidth=2,label=label)\n",
    "    plt.xlabel('False Positive Rate (Fall-Out)', fontsize=16) \n",
    "    plt.ylabel('True Positive Rate (Recall)', fontsize=16)    \n",
    "    plt.grid(True)  \n",
    "\n",
    "plot_roc_curve(fpr,tpr)\n",
    "plt.show()"
   ]
  },
  {
   "cell_type": "markdown",
   "id": "03ea8310-fb65-492c-a93e-3c194869eb86",
   "metadata": {},
   "source": [
    "You can get a metric from this plot and is called the area under the curve. If it is equal to 1 it would be perfect classifier while 0.5 is random chance."
   ]
  },
  {
   "cell_type": "code",
   "execution_count": 21,
   "id": "39d94847-37aa-43cd-a63d-a29352cd91cb",
   "metadata": {},
   "outputs": [
    {
     "data": {
      "text/plain": [
       "0.9568395257681235"
      ]
     },
     "execution_count": 21,
     "metadata": {},
     "output_type": "execute_result"
    }
   ],
   "source": [
    "from sklearn.metrics import roc_auc_score\n",
    "roc_auc_score(y_train_2, y_scores)"
   ]
  },
  {
   "cell_type": "markdown",
   "id": "cb79c680-b8d9-4396-97a6-c13ecabf9358",
   "metadata": {},
   "source": [
    "## Multiclass Classification\n",
    "Before we have just dealt with just a binary classifier, now we move to multiclass. Some algorithms are able to surport this in skit learn such as SGD classifiers and Random Forest classifiers while some cant such as SVM and Logistic regression.  "
   ]
  },
  {
   "cell_type": "code",
   "execution_count": 23,
   "id": "753ff75b-a0fb-4aa2-9c05-76b7990cbba6",
   "metadata": {},
   "outputs": [
    {
     "data": {
      "text/plain": [
       "array([2], dtype=uint8)"
      ]
     },
     "execution_count": 23,
     "metadata": {},
     "output_type": "execute_result"
    }
   ],
   "source": [
    "from sklearn.svm import SVC\n",
    "svm_clf = SVC()\n",
    "svm_clf.fit(X_train,y_train)\n",
    "svm_clf.predict([digit])"
   ]
  },
  {
   "cell_type": "markdown",
   "id": "77db4bd8-f478-497b-8f86-cec2725f32f0",
   "metadata": {},
   "source": [
    "This runs a number of binary classifiers and selects the highest score.  "
   ]
  },
  {
   "cell_type": "code",
   "execution_count": 25,
   "id": "4c7b443a-f901-49b1-8f45-b3a44dc5eed5",
   "metadata": {},
   "outputs": [
    {
     "data": {
      "text/plain": [
       "array([[ 2.7442516 , -0.30125634,  9.31399134,  7.26965016,  3.75753908,\n",
       "         3.74771902,  0.71155138,  2.76650678,  8.2765048 ,  6.21840456]])"
      ]
     },
     "execution_count": 25,
     "metadata": {},
     "output_type": "execute_result"
    }
   ],
   "source": [
    "digit_scores = svm_clf.decision_function([digit])\n",
    "digit_scores"
   ]
  },
  {
   "cell_type": "markdown",
   "id": "8cccece8-ff75-442b-9c1e-048437d7cede",
   "metadata": {},
   "source": [
    "These types of classifier run in 2 different ways, these are One Vs One classifier and One vs Rest classifier. You can force different type on the classifer by the following way"
   ]
  },
  {
   "cell_type": "code",
   "execution_count": null,
   "id": "bfc5f906-65e8-4c02-9e6c-d36a9241ec75",
   "metadata": {},
   "outputs": [],
   "source": [
    "from sklearn.multiclass import OneVsRestClassifier \n",
    "ovr_clf = OneVsRestClassifier(SVC())\n",
    "ovr_clf.fit(X_train,y_train)\n",
    "ovr_clf.predict([digit])"
   ]
  },
  {
   "cell_type": "markdown",
   "id": "47f709ff-454b-4d8a-af2f-63bcb5086a78",
   "metadata": {},
   "source": [
    "You can test these classifier using corss validation "
   ]
  },
  {
   "cell_type": "code",
   "execution_count": null,
   "id": "75efe47a-4db0-41d4-adb2-f24d9982c13e",
   "metadata": {},
   "outputs": [],
   "source": [
    "cross_val_score(sgd_clf, X_train, y_train, cv=3, scoring='accuracy')"
   ]
  },
  {
   "cell_type": "markdown",
   "id": "94e5ffdf-af56-41a0-a8c9-e596dc3de53e",
   "metadata": {},
   "source": [
    "This can be improved further just by scaling the input"
   ]
  },
  {
   "cell_type": "code",
   "execution_count": null,
   "id": "53640a1b-631c-4833-a2b4-a484782654e7",
   "metadata": {},
   "outputs": [],
   "source": [
    "from sklearn.preprocessing import StandardScaler\n",
    "scaler = StandardScaler()\n",
    "X_train_scaled = scaler.fit_transform(X_train.astype(np.float64))\n",
    "cross_val_score(sgd_clf, X_train_scaled, y_train, cv=3, scoring=\"accuracy\")"
   ]
  }
 ],
 "metadata": {
  "kernelspec": {
   "display_name": "Python 3 (ipykernel)",
   "language": "python",
   "name": "python3"
  },
  "language_info": {
   "codemirror_mode": {
    "name": "ipython",
    "version": 3
   },
   "file_extension": ".py",
   "mimetype": "text/x-python",
   "name": "python",
   "nbconvert_exporter": "python",
   "pygments_lexer": "ipython3",
   "version": "3.9.6"
  }
 },
 "nbformat": 4,
 "nbformat_minor": 5
}
