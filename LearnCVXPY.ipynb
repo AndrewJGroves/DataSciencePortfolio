{
 "cells": [
  {
   "cell_type": "markdown",
   "id": "b0141a31-e43c-4bd0-ac9d-23eab8da0ca2",
   "metadata": {},
   "source": [
    "# Learning CVXPY\n",
    "This is a python package that is used to solve convex optimization problems. A optimization problem is when you have a action (e.g. rescoruse allocation), some constraits (e.g. Number needed) and a outcome. This method can be applied to alot of problems however almost all are unsolvable, with a exection being convex problems. A convex problem is when the constraints are linear, and the outcome has none negative curvature.     \n",
    "A simple optimization problem is shown below"
   ]
  },
  {
   "cell_type": "markdown",
   "id": "0f6f2a5c-4ccf-4823-a29f-d87e3940fd4e",
   "metadata": {},
   "source": [
    "## What is CVXPY?\n",
    "A simple optimization problem is shown below"
   ]
  },
  {
   "cell_type": "code",
   "execution_count": 1,
   "id": "82692bfb-4554-4ba8-ad0d-2d12e2c626d1",
   "metadata": {},
   "outputs": [
    {
     "name": "stdout",
     "output_type": "stream",
     "text": [
      "status: optimal\n",
      "optimal value 1.0\n",
      "optimal var 1.0 1.570086213240983e-22\n"
     ]
    }
   ],
   "source": [
    "import cvxpy as cp\n",
    "\n",
    "# This creats 2 scalar varibles \n",
    "x = cp.Variable()\n",
    "y = cp.Variable()\n",
    "\n",
    "#This defines the containts that we want to use for this problem\n",
    "constraints = [x + y == 1,\n",
    "               x - y >= 1]\n",
    "\n",
    "#This defines the objective of the problem\n",
    "obj = cp.Minimize((x - y)**2)\n",
    "\n",
    "#Solves the problem we have defined\n",
    "prob = cp.Problem(obj, constraints)\n",
    "prob.solve()\n",
    "print(\"status:\", prob.status)\n",
    "print(\"optimal value\", prob.value)\n",
    "print(\"optimal var\", x.value, y.value)"
   ]
  },
  {
   "cell_type": "markdown",
   "id": "f3ed0522-ed41-4cb3-9ebe-19cb9e76187d",
   "metadata": {},
   "source": [
    "The status of this problem is shown as optimal meaning that the problem was solved correctly. The optimal value is the lowest soluation to the objective and final the optimal var is the values of x and y that gives the lowest solution."
   ]
  },
  {
   "cell_type": "markdown",
   "id": "584e0a68-63eb-4c6f-b607-e9c61ead9f04",
   "metadata": {},
   "source": [
    "If we wanted to have a different problem we would have to define a new problem as they are immutable."
   ]
  },
  {
   "cell_type": "code",
   "execution_count": 3,
   "id": "247bdb64-d08a-446c-90e8-466f920588b4",
   "metadata": {},
   "outputs": [
    {
     "name": "stdout",
     "output_type": "stream",
     "text": [
      "optimal value  0.9999999999945575\n",
      "optimal value  2.999999999735974\n"
     ]
    }
   ],
   "source": [
    "prob2 = cp.Problem(cp.Maximize(x + y), prob.constraints)\n",
    "print(\"optimal value \", prob2.solve())\n",
    "\n",
    "#This replaces the first constraint defined abouve\n",
    "constraints = [x + y <= 3] + prob2.constraints[1:0]\n",
    "prob3 = cp.Problem(prob2.objective, constraints)\n",
    "print(\"optimal value \", prob3.solve())"
   ]
  },
  {
   "cell_type": "markdown",
   "id": "1b05a0d0-eae1-4087-a767-9b2d5d115587",
   "metadata": {},
   "source": [
    "If once you try and solve a problem and get the status infeasible (not possible) or unbounded (no constraints) means that I can not be solved."
   ]
  },
  {
   "cell_type": "code",
   "execution_count": 5,
   "id": "8e539091-cff7-4405-95b0-99f26cebc090",
   "metadata": {},
   "outputs": [
    {
     "name": "stdout",
     "output_type": "stream",
     "text": [
      "status: infeasible\n",
      "optimal value inf\n",
      "status: unbounded\n",
      "optimal value -inf\n"
     ]
    }
   ],
   "source": [
    "x = cp.Variable()\n",
    "\n",
    "prob = cp.Problem(cp.Minimize(x),[x >= 1, x <=0])\n",
    "prob.solve()\n",
    "print(\"status:\",prob.status)\n",
    "print(\"optimal value\", prob.value)\n",
    "\n",
    "prob = cp.Problem(cp.Minimize(x))\n",
    "prob.solve()\n",
    "print(\"status:\", prob.status)\n",
    "print(\"optimal value\", prob.value)"
   ]
  },
  {
   "cell_type": "markdown",
   "id": "ea7fabb8-aa8f-4969-9ef1-f8d7dbfc3e12",
   "metadata": {},
   "source": [
    "It should be noted that the values are oposite for maximization problems."
   ]
  },
  {
   "cell_type": "markdown",
   "id": "bfa8a9a7-6169-446d-8d52-9ef771152e23",
   "metadata": {},
   "source": [
    "There are a number of other staties that can be shown in this. For instance is it can solve the problem but to a lower accuracy than desired then the status will indicate as such, \"optimal_inaccurate\".           \n",
    "The solver could also fail to solve the problem enteriley and then you would get SolverError for the status."
   ]
  },
  {
   "cell_type": "markdown",
   "id": "ee5d4c03-9df6-472b-b388-db172fc616bf",
   "metadata": {},
   "source": [
    "### Vectors and matrices\n",
    "The varibles used in problems done have to be scalar, you could have vector and matrices as well. You also dont have to use cpy's varible function for arrays, it also surports NumPy ndarrays, NumPy matrices and SciPy sparse matrices. "
   ]
  },
  {
   "cell_type": "code",
   "execution_count": 6,
   "id": "b60040bf-515a-4805-841b-f0c8639a7f2d",
   "metadata": {},
   "outputs": [
    {
     "name": "stdout",
     "output_type": "stream",
     "text": [
      "Optimal value 4.141338603672535\n",
      "Optimal var\n",
      "[-4.95922264e-21  6.07571976e-21  1.34643668e-01  1.24976681e-01\n",
      " -4.57130806e-21]\n"
     ]
    }
   ],
   "source": [
    "# A scalar variable.\n",
    "a = cp.Variable()\n",
    "x = cp.Variable(5)\n",
    "x = cp.Variable((5, 1))\n",
    "A = cp.Variable((4, 7))\n",
    "\n",
    "import numpy as np\n",
    "np.random.seed(1)\n",
    "A = np.random.randn(10, 5)\n",
    "b = np.random.randn(10)\n",
    "\n",
    "x = cp.Variable(5)\n",
    "objective = cp.Minimize(cp.sum_squares(A @ x - b))\n",
    "constraints = [0 <= x, x <= 1]\n",
    "prob = cp.Problem(objective, constraints)\n",
    "\n",
    "print(\"Optimal value\", prob.solve())\n",
    "print(\"Optimal var\")\n",
    "print(x.value) # A numpy ndarray."
   ]
  },
  {
   "cell_type": "markdown",
   "id": "69d8f903-490e-4e70-b5ca-c1b2baa2a5cb",
   "metadata": {},
   "source": [
    "You notice that the constraints are written either as ==, <= and >=. These are all the constraints that are permitted and will me applied to each element of the matrix. You are also able to do semi-definite cone constraints but that will be done later. Should also be noted that you can not chain constraints together."
   ]
  },
  {
   "cell_type": "markdown",
   "id": "4b029161-7e03-41a1-b68a-386817a9e84d",
   "metadata": {},
   "source": [
    "### Parameters \n",
    "Parameters are used to change the value of constants in a problem without needing to reconstruct the whole problem. This is because parametrizing the problem multiple times and solving them is normally fasting the solving the whole problem as once.            \n",
    "Parameters can be vectors or matrices, you can also specify is there parameters entries are negative or symmetric. You can also assign them a value at any point."
   ]
  },
  {
   "cell_type": "code",
   "execution_count": 8,
   "id": "289fea84-d455-490f-a434-15dfc3ec00ff",
   "metadata": {},
   "outputs": [],
   "source": [
    "m = cp.Parameter(nonneg=True)\n",
    "\n",
    "c = cp.Parameter(5)\n",
    "\n",
    "G = cp.Parameter((4, 7), nonpos=True)\n",
    "\n",
    "G.value = -np.ones((4, 7))\n",
    "\n",
    "rho = cp.Parameter(nonneg=True)\n",
    "rho.value = 2\n",
    "\n",
    "rho = cp.Parameter(nonneg=True, value=2)"
   ]
  },
  {
   "cell_type": "markdown",
   "id": "f0ccd56e-849f-47ec-b32d-1a83cc00df50",
   "metadata": {},
   "source": [
    "## Disciplined Convex Programming\n",
    "This is a system that constructs expressions with known curvature from a given library of base functions, this helps ensure that problems are convex."
   ]
  },
  {
   "cell_type": "markdown",
   "id": "ccd84287-7e1b-4002-95d4-311fecfe44fc",
   "metadata": {},
   "source": [
    "### Expressions \n",
    "These are formed from vaiables, parameters, constants amoung other things. Some examples are shown."
   ]
  },
  {
   "cell_type": "code",
   "execution_count": null,
   "id": "7dad7e6c-b3b5-4dc2-aa32-8296c0259f30",
   "metadata": {},
   "outputs": [],
   "source": [
    "# Create variables and parameters.\n",
    "x, y = cp.Variable(), cp.Variable()\n",
    "a, b = cp.Parameter(), cp.Parameter()\n",
    "\n",
    "# Examples of CVXPY expressions.\n",
    "3.69 + b/3\n",
    "x - 4*a\n",
    "sqrt(x) - minimum(y, x - a)\n",
    "maximum(2.66 - sqrt(y), square(x + 2*y))"
   ]
  },
  {
   "cell_type": "markdown",
   "id": "05de47d4-f8c1-48af-9015-6fcdd042f7e0",
   "metadata": {},
   "source": [
    "The expressions can be scalars, vectors or matrices and the shape can be accessed by `expr.shape`. CVXPY will raise a error if the expressions dont make sence, e.g. adding matrices of different sizes. "
   ]
  },
  {
   "cell_type": "code",
   "execution_count": 11,
   "id": "c0c502cb-8487-4dd0-92e5-122f990c7915",
   "metadata": {},
   "outputs": [
    {
     "name": "stdout",
     "output_type": "stream",
     "text": [
      "dimensions of X: (5, 4)\n",
      "size of X: 20\n",
      "number of dimensions: 2\n",
      "dimensions of sum(X): ()\n",
      "dimensions of A @ X: (3, 4)\n",
      "Problem\n"
     ]
    }
   ],
   "source": [
    "X = cp.Variable((5, 4))\n",
    "A = np.ones((3, 5))\n",
    "\n",
    "# Use expr.shape to get the dimensions.\n",
    "print(\"dimensions of X:\", X.shape)\n",
    "print(\"size of X:\", X.size)\n",
    "print(\"number of dimensions:\", X.ndim)\n",
    "print(\"dimensions of sum(X):\", cp.sum(X).shape)\n",
    "print(\"dimensions of A @ X:\", (A @ X).shape)\n",
    "\n",
    "# ValueError raised for invalid dimensions.\n",
    "try:\n",
    "    A + X\n",
    "except ValueError:\n",
    "    print('Problem')"
   ]
  },
  {
   "cell_type": "markdown",
   "id": "d6478593-15b6-4526-9e10-1df78ea9aab2",
   "metadata": {},
   "source": [
    "#### Curvature\n",
    "Each (sub)expression is flagged as one of the following\n",
    "* constant\n",
    "* affine\n",
    "* convex\n",
    "* concave\n",
    "* unknown\n",
    "There are a number of rules of what the expressions curvature will be based on the subexpressions. It is also stored in the extrestion `expr.curvature`. The curvature rules are can be found in https://www.cvxpy.org/tutorial/dcp/index.html   "
   ]
  },
  {
   "cell_type": "code",
   "execution_count": null,
   "id": "46cdb6d6-62bf-4027-8b8c-00110c9e33f7",
   "metadata": {},
   "outputs": [],
   "source": []
  }
 ],
 "metadata": {
  "kernelspec": {
   "display_name": "Python 3 (ipykernel)",
   "language": "python",
   "name": "python3"
  },
  "language_info": {
   "codemirror_mode": {
    "name": "ipython",
    "version": 3
   },
   "file_extension": ".py",
   "mimetype": "text/x-python",
   "name": "python",
   "nbconvert_exporter": "python",
   "pygments_lexer": "ipython3",
   "version": "3.9.6"
  }
 },
 "nbformat": 4,
 "nbformat_minor": 5
}
