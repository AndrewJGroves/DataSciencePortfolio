{
  "nbformat": 4,
  "nbformat_minor": 0,
  "metadata": {
    "colab": {
      "name": "Untitled0.ipynb",
      "provenance": [],
      "toc_visible": true,
      "authorship_tag": "ABX9TyPX8tKRhEsA5J9r3Xk8FDUY",
      "include_colab_link": true
    },
    "kernelspec": {
      "name": "python3",
      "display_name": "Python 3"
    }
  },
  "cells": [
    {
      "cell_type": "markdown",
      "metadata": {
        "id": "view-in-github",
        "colab_type": "text"
      },
      "source": [
        "<a href=\"https://colab.research.google.com/github/AndrewJGroves/PlottingInformation/blob/main/NuclearMissle.ipynb\" target=\"_parent\"><img src=\"https://colab.research.google.com/assets/colab-badge.svg\" alt=\"Open In Colab\"/></a>"
      ]
    },
    {
      "cell_type": "markdown",
      "metadata": {
        "id": "8yKFcjtgdykV"
      },
      "source": [
        "# Plotting Nuclear Missle Data"
      ]
    },
    {
      "cell_type": "markdown",
      "metadata": {
        "id": "WEAHQnEMd5pY"
      },
      "source": [
        "Code to take data on nuclear missiles by country and plot them on a graph"
      ]
    },
    {
      "cell_type": "code",
      "metadata": {
        "colab": {
          "base_uri": "https://localhost:8080/"
        },
        "id": "Yg1_IcHNQRR5",
        "outputId": "7f95f91a-6629-48c2-a23a-1f7983d9cb85"
      },
      "source": [
        "pip install wikipedia"
      ],
      "execution_count": 78,
      "outputs": [
        {
          "output_type": "stream",
          "text": [
            "Requirement already satisfied: wikipedia in /usr/local/lib/python3.7/dist-packages (1.4.0)\n",
            "Requirement already satisfied: requests<3.0.0,>=2.0.0 in /usr/local/lib/python3.7/dist-packages (from wikipedia) (2.23.0)\n",
            "Requirement already satisfied: beautifulsoup4 in /usr/local/lib/python3.7/dist-packages (from wikipedia) (4.6.3)\n",
            "Requirement already satisfied: urllib3!=1.25.0,!=1.25.1,<1.26,>=1.21.1 in /usr/local/lib/python3.7/dist-packages (from requests<3.0.0,>=2.0.0->wikipedia) (1.24.3)\n",
            "Requirement already satisfied: chardet<4,>=3.0.2 in /usr/local/lib/python3.7/dist-packages (from requests<3.0.0,>=2.0.0->wikipedia) (3.0.4)\n",
            "Requirement already satisfied: idna<3,>=2.5 in /usr/local/lib/python3.7/dist-packages (from requests<3.0.0,>=2.0.0->wikipedia) (2.10)\n",
            "Requirement already satisfied: certifi>=2017.4.17 in /usr/local/lib/python3.7/dist-packages (from requests<3.0.0,>=2.0.0->wikipedia) (2020.12.5)\n"
          ],
          "name": "stdout"
        }
      ]
    },
    {
      "cell_type": "markdown",
      "metadata": {
        "id": "wMdLUNaUeA15"
      },
      "source": [
        "Start my taking the information from wikipedia and cleaning it"
      ]
    },
    {
      "cell_type": "code",
      "metadata": {
        "colab": {
          "base_uri": "https://localhost:8080/",
          "height": 545
        },
        "id": "1o-ipYuQQXwQ",
        "outputId": "68bfec66-424e-4a8a-ce55-74a7a4c0123c"
      },
      "source": [
        "import pandas as pd\n",
        "import wikipedia as wp\n",
        "import numpy as np\n",
        "\n",
        "html = wp.page(\"Historical nuclear weapons stockpiles and nuclear tests by country\").html().encode(\"UTF-8\")\n",
        "df = pd.read_html(html)[0] \n",
        "\n",
        "#Finding the countires and putting them into the index of a new data frame\n",
        "countries=list(df.columns[0]) \n",
        "countries=countries[1:-1]\n",
        "new_df=pd.DataFrame(columns=countries)\n",
        "\n",
        "for i in range(1,len(df.columns)-1):\n",
        "  li=list(df.columns[i])\n",
        "  year=li[0]\n",
        "  li=li[1:-1]\n",
        "  new_li=[]\n",
        "  for i in li: #Cleaning the data and making the numbers useable\n",
        "    if i == 'â\\x80\\x94':\n",
        "      new_li.append(0)\n",
        "    else:\n",
        "      x=i.split('-')\n",
        "      if len(x) > 1:\n",
        "        x=x[1]\n",
        "      else:\n",
        "        x=x[0]\n",
        "      x=x.split('[',1)\n",
        "      x=x[0]\n",
        "      x=x.split()\n",
        "      x=x[0]\n",
        "      x=x.replace(',','')\n",
        "      try:\n",
        "        x=int(x)\n",
        "      except:\n",
        "        x=np.nan\n",
        "      new_li.append(x)\n",
        "  new_df.loc[year]=new_li\n",
        "new_df.fillna(81,inplace=True) #Single value was hard to deal with and fast to input by hand due to the size of the dataframe\n",
        "\n",
        "df = new_df.rename(columns = {'United States': 'US', 'Soviet Union Russia': 'USSR/Russia','United Kingdom':'UK'}, inplace = False)\n",
        "df.index = pd.to_datetime(df.index)\n",
        "df.index.name = 'date'\n",
        "df=df.replace([0],np.nan)\n",
        "del df['South Africa']\n",
        "del df['Kazakhstan']\n",
        "del df['Ukraine']\n",
        "del df['Belarus']\n",
        "del df['Lithuania']\n",
        "\n",
        "df.head(20)\n"
      ],
      "execution_count": 79,
      "outputs": [
        {
          "output_type": "execute_result",
          "data": {
            "text/html": [
              "<div>\n",
              "<style scoped>\n",
              "    .dataframe tbody tr th:only-of-type {\n",
              "        vertical-align: middle;\n",
              "    }\n",
              "\n",
              "    .dataframe tbody tr th {\n",
              "        vertical-align: top;\n",
              "    }\n",
              "\n",
              "    .dataframe thead th {\n",
              "        text-align: right;\n",
              "    }\n",
              "</style>\n",
              "<table border=\"1\" class=\"dataframe\">\n",
              "  <thead>\n",
              "    <tr style=\"text-align: right;\">\n",
              "      <th></th>\n",
              "      <th>US</th>\n",
              "      <th>USSR/Russia</th>\n",
              "      <th>China</th>\n",
              "      <th>France</th>\n",
              "      <th>UK</th>\n",
              "      <th>India</th>\n",
              "      <th>Pakistan</th>\n",
              "      <th>Israel</th>\n",
              "      <th>North Korea</th>\n",
              "    </tr>\n",
              "    <tr>\n",
              "      <th>date</th>\n",
              "      <th></th>\n",
              "      <th></th>\n",
              "      <th></th>\n",
              "      <th></th>\n",
              "      <th></th>\n",
              "      <th></th>\n",
              "      <th></th>\n",
              "      <th></th>\n",
              "      <th></th>\n",
              "    </tr>\n",
              "  </thead>\n",
              "  <tbody>\n",
              "    <tr>\n",
              "      <th>1945-01-01</th>\n",
              "      <td>2.0</td>\n",
              "      <td>NaN</td>\n",
              "      <td>NaN</td>\n",
              "      <td>NaN</td>\n",
              "      <td>NaN</td>\n",
              "      <td>NaN</td>\n",
              "      <td>NaN</td>\n",
              "      <td>NaN</td>\n",
              "      <td>NaN</td>\n",
              "    </tr>\n",
              "    <tr>\n",
              "      <th>1950-01-01</th>\n",
              "      <td>299.0</td>\n",
              "      <td>5.0</td>\n",
              "      <td>NaN</td>\n",
              "      <td>NaN</td>\n",
              "      <td>NaN</td>\n",
              "      <td>NaN</td>\n",
              "      <td>NaN</td>\n",
              "      <td>NaN</td>\n",
              "      <td>NaN</td>\n",
              "    </tr>\n",
              "    <tr>\n",
              "      <th>1955-01-01</th>\n",
              "      <td>2422.0</td>\n",
              "      <td>200.0</td>\n",
              "      <td>NaN</td>\n",
              "      <td>NaN</td>\n",
              "      <td>14.0</td>\n",
              "      <td>NaN</td>\n",
              "      <td>NaN</td>\n",
              "      <td>NaN</td>\n",
              "      <td>NaN</td>\n",
              "    </tr>\n",
              "    <tr>\n",
              "      <th>1960-01-01</th>\n",
              "      <td>18638.0</td>\n",
              "      <td>1605.0</td>\n",
              "      <td>NaN</td>\n",
              "      <td>NaN</td>\n",
              "      <td>42.0</td>\n",
              "      <td>NaN</td>\n",
              "      <td>NaN</td>\n",
              "      <td>NaN</td>\n",
              "      <td>NaN</td>\n",
              "    </tr>\n",
              "    <tr>\n",
              "      <th>1965-01-01</th>\n",
              "      <td>31149.0</td>\n",
              "      <td>6129.0</td>\n",
              "      <td>5.0</td>\n",
              "      <td>32.0</td>\n",
              "      <td>436.0</td>\n",
              "      <td>NaN</td>\n",
              "      <td>NaN</td>\n",
              "      <td>NaN</td>\n",
              "      <td>NaN</td>\n",
              "    </tr>\n",
              "    <tr>\n",
              "      <th>1970-01-01</th>\n",
              "      <td>26008.0</td>\n",
              "      <td>11643.0</td>\n",
              "      <td>75.0</td>\n",
              "      <td>36.0</td>\n",
              "      <td>394.0</td>\n",
              "      <td>NaN</td>\n",
              "      <td>NaN</td>\n",
              "      <td>8.0</td>\n",
              "      <td>NaN</td>\n",
              "    </tr>\n",
              "    <tr>\n",
              "      <th>1975-01-01</th>\n",
              "      <td>27519.0</td>\n",
              "      <td>19055.0</td>\n",
              "      <td>180.0</td>\n",
              "      <td>188.0</td>\n",
              "      <td>492.0</td>\n",
              "      <td>NaN</td>\n",
              "      <td>NaN</td>\n",
              "      <td>20.0</td>\n",
              "      <td>NaN</td>\n",
              "    </tr>\n",
              "    <tr>\n",
              "      <th>1980-01-01</th>\n",
              "      <td>23368.0</td>\n",
              "      <td>30062.0</td>\n",
              "      <td>205.0</td>\n",
              "      <td>250.0</td>\n",
              "      <td>492.0</td>\n",
              "      <td>1.0</td>\n",
              "      <td>NaN</td>\n",
              "      <td>31.0</td>\n",
              "      <td>NaN</td>\n",
              "    </tr>\n",
              "    <tr>\n",
              "      <th>1985-01-01</th>\n",
              "      <td>21392.0</td>\n",
              "      <td>39197.0</td>\n",
              "      <td>243.0</td>\n",
              "      <td>360.0</td>\n",
              "      <td>422.0</td>\n",
              "      <td>3.0</td>\n",
              "      <td>NaN</td>\n",
              "      <td>42.0</td>\n",
              "      <td>NaN</td>\n",
              "    </tr>\n",
              "    <tr>\n",
              "      <th>1990-01-01</th>\n",
              "      <td>10904.0</td>\n",
              "      <td>37000.0</td>\n",
              "      <td>232.0</td>\n",
              "      <td>505.0</td>\n",
              "      <td>422.0</td>\n",
              "      <td>7.0</td>\n",
              "      <td>4.0</td>\n",
              "      <td>53.0</td>\n",
              "      <td>1.0</td>\n",
              "    </tr>\n",
              "    <tr>\n",
              "      <th>1995-01-01</th>\n",
              "      <td>10577.0</td>\n",
              "      <td>27000.0</td>\n",
              "      <td>234.0</td>\n",
              "      <td>500.0</td>\n",
              "      <td>422.0</td>\n",
              "      <td>14.0</td>\n",
              "      <td>13.0</td>\n",
              "      <td>63.0</td>\n",
              "      <td>2.0</td>\n",
              "    </tr>\n",
              "    <tr>\n",
              "      <th>2000-01-01</th>\n",
              "      <td>8360.0</td>\n",
              "      <td>21500.0</td>\n",
              "      <td>232.0</td>\n",
              "      <td>470.0</td>\n",
              "      <td>281.0</td>\n",
              "      <td>28.0</td>\n",
              "      <td>28.0</td>\n",
              "      <td>72.0</td>\n",
              "      <td>2.0</td>\n",
              "    </tr>\n",
              "    <tr>\n",
              "      <th>2005-01-01</th>\n",
              "      <td>7700.0</td>\n",
              "      <td>17000.0</td>\n",
              "      <td>235.0</td>\n",
              "      <td>350.0</td>\n",
              "      <td>281.0</td>\n",
              "      <td>44.0</td>\n",
              "      <td>38.0</td>\n",
              "      <td>80.0</td>\n",
              "      <td>8.0</td>\n",
              "    </tr>\n",
              "    <tr>\n",
              "      <th>2014-01-01</th>\n",
              "      <td>7260.0</td>\n",
              "      <td>7500.0</td>\n",
              "      <td>260.0</td>\n",
              "      <td>300.0</td>\n",
              "      <td>215.0</td>\n",
              "      <td>110.0</td>\n",
              "      <td>120.0</td>\n",
              "      <td>80.0</td>\n",
              "      <td>8.0</td>\n",
              "    </tr>\n",
              "    <tr>\n",
              "      <th>2020-01-01</th>\n",
              "      <td>5800.0</td>\n",
              "      <td>6375.0</td>\n",
              "      <td>320.0</td>\n",
              "      <td>290.0</td>\n",
              "      <td>215.0</td>\n",
              "      <td>150.0</td>\n",
              "      <td>160.0</td>\n",
              "      <td>90.0</td>\n",
              "      <td>40.0</td>\n",
              "    </tr>\n",
              "  </tbody>\n",
              "</table>\n",
              "</div>"
            ],
            "text/plain": [
              "                 US  USSR/Russia  China  ...  Pakistan  Israel  North Korea\n",
              "date                                     ...                               \n",
              "1945-01-01      2.0          NaN    NaN  ...       NaN     NaN          NaN\n",
              "1950-01-01    299.0          5.0    NaN  ...       NaN     NaN          NaN\n",
              "1955-01-01   2422.0        200.0    NaN  ...       NaN     NaN          NaN\n",
              "1960-01-01  18638.0       1605.0    NaN  ...       NaN     NaN          NaN\n",
              "1965-01-01  31149.0       6129.0    5.0  ...       NaN     NaN          NaN\n",
              "1970-01-01  26008.0      11643.0   75.0  ...       NaN     8.0          NaN\n",
              "1975-01-01  27519.0      19055.0  180.0  ...       NaN    20.0          NaN\n",
              "1980-01-01  23368.0      30062.0  205.0  ...       NaN    31.0          NaN\n",
              "1985-01-01  21392.0      39197.0  243.0  ...       NaN    42.0          NaN\n",
              "1990-01-01  10904.0      37000.0  232.0  ...       4.0    53.0          1.0\n",
              "1995-01-01  10577.0      27000.0  234.0  ...      13.0    63.0          2.0\n",
              "2000-01-01   8360.0      21500.0  232.0  ...      28.0    72.0          2.0\n",
              "2005-01-01   7700.0      17000.0  235.0  ...      38.0    80.0          8.0\n",
              "2014-01-01   7260.0       7500.0  260.0  ...     120.0    80.0          8.0\n",
              "2020-01-01   5800.0       6375.0  320.0  ...     160.0    90.0         40.0\n",
              "\n",
              "[15 rows x 9 columns]"
            ]
          },
          "metadata": {
            "tags": []
          },
          "execution_count": 79
        }
      ]
    },
    {
      "cell_type": "markdown",
      "metadata": {
        "id": "zwNNBJEdeZNp"
      },
      "source": [
        "Now we have a dataframe to work with we can start to do plotting, first I will do it with matplotlib before trying with seaborn"
      ]
    },
    {
      "cell_type": "code",
      "metadata": {
        "id": "FbCoTa7XaQkw",
        "outputId": "c7c993c5-ecf2-4657-8180-d90db0b3140d",
        "colab": {
          "base_uri": "https://localhost:8080/",
          "height": 281
        }
      },
      "source": [
        "from matplotlib import pyplot as plt\n",
        "\n",
        "plt.figure()\n",
        "ax=plt.subplot()\n",
        "plt.plot(df.index, df['US'],label='US')\n",
        "plt.plot(df.index, df['USSR/Russia'],label='USSR/Russia')\n",
        "plt.plot(df.index, df['France'],label='France')\n",
        "plt.plot(df.index, df['China'],label='China')\n",
        "plt.plot(df.index, df['UK'],label='UK')\n",
        "plt.plot(df.index, df['India'],label='India')\n",
        "plt.plot(df.index, df['Pakistan'],label='Pakistan')\n",
        "plt.plot(df.index, df['Israel'],label='Israel')\n",
        "plt.plot(df.index, df['North Korea'],label='North Korea')\n",
        "ax.set_yscale('log')\n",
        "plt.xticks(rotation=50)\n",
        "plt.legend()\n",
        "plt.show()"
      ],
      "execution_count": 80,
      "outputs": [
        {
          "output_type": "display_data",
          "data": {
            "image/png": "[encoded data removed]",
            "text/plain": [
              "<Figure size 432x288 with 1 Axes>"
            ]
          },
          "metadata": {
            "tags": [],
            "needs_background": "light"
          }
        }
      ]
    },
    {
      "cell_type": "code",
      "metadata": {
        "id": "x6W7_o5AZ2rT",
        "outputId": "64b11916-c410-4bcd-9b9d-8d62305f3c71",
        "colab": {
          "base_uri": "https://localhost:8080/",
          "height": 339
        }
      },
      "source": [
        "def nice_axes(ax):\n",
        "    ax.set_facecolor('.8')\n",
        "    ax.tick_params(labelsize=8, length=0)\n",
        "    ax.grid(True, axis='x', color='white')\n",
        "    ax.set_axisbelow(True)\n",
        "    [spine.set_visible(False) for spine in ax.spines.values()]\n",
        "\n",
        "fig, ax = plt.subplots(figsize=(4, 2.5), dpi=144)\n",
        "colors = plt.cm.Dark2(range(6))\n",
        "s = df.loc['2020-01-01']\n",
        "y = s.index\n",
        "width = s.values\n",
        "ax.barh(y=y, width=width, color=colors);    \n",
        "nice_axes(ax)\n"
      ],
      "execution_count": 81,
      "outputs": [
        {
          "output_type": "display_data",
          "data": {
            "image/png": "[encoded data removed]",
            "text/plain": [
              "<Figure size 576x360 with 1 Axes>"
            ]
          },
          "metadata": {
            "tags": [],
            "needs_background": "light"
          }
        }
      ]
    },
    {
      "cell_type": "code",
      "metadata": {
        "id": "_U8fMH8Chz8w"
      },
      "source": [
        "def prepare_data(df, steps=5):\n",
        "    df = df.reset_index()\n",
        "    df.index = df.index * steps\n",
        "    last_idx = df.index[-1] + 1\n",
        "    df_expanded = df.reindex(range(last_idx))\n",
        "    df_expanded['date'] = df_expanded['date'].fillna(method='ffill')\n",
        "    df_expanded = df_expanded.set_index('date')\n",
        "    df_rank_expanded = df_expanded.rank(axis=1, method='first')\n",
        "    df_expanded = df_expanded.interpolate()\n",
        "    df_rank_expanded = df_rank_expanded.interpolate()\n",
        "    return df_expanded, df_rank_expanded\n",
        "\n",
        "df_expanded, df_rank_expanded = prepare_data(df)\n",
        "df_expanded.head()\n",
        "labels = df_expanded.columns\n"
      ],
      "execution_count": 82,
      "outputs": []
    },
    {
      "cell_type": "code",
      "metadata": {
        "id": "v9MI83Qnixv7"
      },
      "source": [
        "from matplotlib.animation import FuncAnimation\n",
        "\n",
        "def init():\n",
        "    ax.clear()\n",
        "    nice_axes(ax)\n",
        "    ax.set_ylim(.2, 6.8)\n",
        "\n",
        "def update(i):\n",
        "    for bar in ax.containers:\n",
        "        bar.remove()\n",
        "    y = df_rank_expanded.iloc[i]\n",
        "    width = df_expanded.iloc[i]\n",
        "    ax.barh(y=y, width=width, color=colors, tick_label=labels)\n",
        "    date_str = df_expanded.index[i].strftime('%B %-d, %Y')\n",
        "    ax.set_title(f'Nuclear Warheads by Country - {date_str}', fontsize='smaller')\n",
        "    \n",
        "fig = plt.Figure(figsize=(4, 2.5), dpi=144)\n",
        "ax = fig.add_subplot()\n",
        "anim = FuncAnimation(fig=fig, func=update, init_func=init, frames=len(df_expanded), \n",
        "                     interval=100, repeat=False)"
      ],
      "execution_count": 83,
      "outputs": []
    },
    {
      "cell_type": "code",
      "metadata": {
        "id": "lL-ysbVXi0Rs"
      },
      "source": [
        "from IPython.display import HTML\n",
        "html = anim.to_html5_video()\n",
        "HTML(html)\n",
        "anim.save('Nuclear.mp4')\n"
      ],
      "execution_count": 84,
      "outputs": []
    }
  ]
}