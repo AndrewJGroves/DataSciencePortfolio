{
 "cells": [
  {
   "cell_type": "markdown",
   "id": "4f67e1f9-bcc7-4795-b1aa-a94d4be08090",
   "metadata": {},
   "source": [
    "# House Prices\n",
    "This is my work based on the housing prices competition on kaggle https://www.kaggle.com/c/house-prices-advanced-regression-techniques"
   ]
  },
  {
   "cell_type": "code",
   "execution_count": 2,
   "id": "5d14caed-643c-4f92-a0d8-29c4fb502525",
   "metadata": {},
   "outputs": [
    {
     "data": {
      "text/html": [
       "<div>\n",
       "<style scoped>\n",
       "    .dataframe tbody tr th:only-of-type {\n",
       "        vertical-align: middle;\n",
       "    }\n",
       "\n",
       "    .dataframe tbody tr th {\n",
       "        vertical-align: top;\n",
       "    }\n",
       "\n",
       "    .dataframe thead th {\n",
       "        text-align: right;\n",
       "    }\n",
       "</style>\n",
       "<table border=\"1\" class=\"dataframe\">\n",
       "  <thead>\n",
       "    <tr style=\"text-align: right;\">\n",
       "      <th></th>\n",
       "      <th>Id</th>\n",
       "      <th>MSSubClass</th>\n",
       "      <th>MSZoning</th>\n",
       "      <th>LotFrontage</th>\n",
       "      <th>LotArea</th>\n",
       "      <th>Street</th>\n",
       "      <th>Alley</th>\n",
       "      <th>LotShape</th>\n",
       "      <th>LandContour</th>\n",
       "      <th>Utilities</th>\n",
       "      <th>...</th>\n",
       "      <th>PoolArea</th>\n",
       "      <th>PoolQC</th>\n",
       "      <th>Fence</th>\n",
       "      <th>MiscFeature</th>\n",
       "      <th>MiscVal</th>\n",
       "      <th>MoSold</th>\n",
       "      <th>YrSold</th>\n",
       "      <th>SaleType</th>\n",
       "      <th>SaleCondition</th>\n",
       "      <th>SalePrice</th>\n",
       "    </tr>\n",
       "  </thead>\n",
       "  <tbody>\n",
       "    <tr>\n",
       "      <th>0</th>\n",
       "      <td>1</td>\n",
       "      <td>60</td>\n",
       "      <td>RL</td>\n",
       "      <td>65.0</td>\n",
       "      <td>8450</td>\n",
       "      <td>Pave</td>\n",
       "      <td>NaN</td>\n",
       "      <td>Reg</td>\n",
       "      <td>Lvl</td>\n",
       "      <td>AllPub</td>\n",
       "      <td>...</td>\n",
       "      <td>0</td>\n",
       "      <td>NaN</td>\n",
       "      <td>NaN</td>\n",
       "      <td>NaN</td>\n",
       "      <td>0</td>\n",
       "      <td>2</td>\n",
       "      <td>2008</td>\n",
       "      <td>WD</td>\n",
       "      <td>Normal</td>\n",
       "      <td>208500</td>\n",
       "    </tr>\n",
       "    <tr>\n",
       "      <th>1</th>\n",
       "      <td>2</td>\n",
       "      <td>20</td>\n",
       "      <td>RL</td>\n",
       "      <td>80.0</td>\n",
       "      <td>9600</td>\n",
       "      <td>Pave</td>\n",
       "      <td>NaN</td>\n",
       "      <td>Reg</td>\n",
       "      <td>Lvl</td>\n",
       "      <td>AllPub</td>\n",
       "      <td>...</td>\n",
       "      <td>0</td>\n",
       "      <td>NaN</td>\n",
       "      <td>NaN</td>\n",
       "      <td>NaN</td>\n",
       "      <td>0</td>\n",
       "      <td>5</td>\n",
       "      <td>2007</td>\n",
       "      <td>WD</td>\n",
       "      <td>Normal</td>\n",
       "      <td>181500</td>\n",
       "    </tr>\n",
       "    <tr>\n",
       "      <th>2</th>\n",
       "      <td>3</td>\n",
       "      <td>60</td>\n",
       "      <td>RL</td>\n",
       "      <td>68.0</td>\n",
       "      <td>11250</td>\n",
       "      <td>Pave</td>\n",
       "      <td>NaN</td>\n",
       "      <td>IR1</td>\n",
       "      <td>Lvl</td>\n",
       "      <td>AllPub</td>\n",
       "      <td>...</td>\n",
       "      <td>0</td>\n",
       "      <td>NaN</td>\n",
       "      <td>NaN</td>\n",
       "      <td>NaN</td>\n",
       "      <td>0</td>\n",
       "      <td>9</td>\n",
       "      <td>2008</td>\n",
       "      <td>WD</td>\n",
       "      <td>Normal</td>\n",
       "      <td>223500</td>\n",
       "    </tr>\n",
       "    <tr>\n",
       "      <th>3</th>\n",
       "      <td>4</td>\n",
       "      <td>70</td>\n",
       "      <td>RL</td>\n",
       "      <td>60.0</td>\n",
       "      <td>9550</td>\n",
       "      <td>Pave</td>\n",
       "      <td>NaN</td>\n",
       "      <td>IR1</td>\n",
       "      <td>Lvl</td>\n",
       "      <td>AllPub</td>\n",
       "      <td>...</td>\n",
       "      <td>0</td>\n",
       "      <td>NaN</td>\n",
       "      <td>NaN</td>\n",
       "      <td>NaN</td>\n",
       "      <td>0</td>\n",
       "      <td>2</td>\n",
       "      <td>2006</td>\n",
       "      <td>WD</td>\n",
       "      <td>Abnorml</td>\n",
       "      <td>140000</td>\n",
       "    </tr>\n",
       "    <tr>\n",
       "      <th>4</th>\n",
       "      <td>5</td>\n",
       "      <td>60</td>\n",
       "      <td>RL</td>\n",
       "      <td>84.0</td>\n",
       "      <td>14260</td>\n",
       "      <td>Pave</td>\n",
       "      <td>NaN</td>\n",
       "      <td>IR1</td>\n",
       "      <td>Lvl</td>\n",
       "      <td>AllPub</td>\n",
       "      <td>...</td>\n",
       "      <td>0</td>\n",
       "      <td>NaN</td>\n",
       "      <td>NaN</td>\n",
       "      <td>NaN</td>\n",
       "      <td>0</td>\n",
       "      <td>12</td>\n",
       "      <td>2008</td>\n",
       "      <td>WD</td>\n",
       "      <td>Normal</td>\n",
       "      <td>250000</td>\n",
       "    </tr>\n",
       "  </tbody>\n",
       "</table>\n",
       "<p>5 rows × 81 columns</p>\n",
       "</div>"
      ],
      "text/plain": [
       "   Id  MSSubClass MSZoning  LotFrontage  LotArea Street Alley LotShape  \\\n",
       "0   1          60       RL         65.0     8450   Pave   NaN      Reg   \n",
       "1   2          20       RL         80.0     9600   Pave   NaN      Reg   \n",
       "2   3          60       RL         68.0    11250   Pave   NaN      IR1   \n",
       "3   4          70       RL         60.0     9550   Pave   NaN      IR1   \n",
       "4   5          60       RL         84.0    14260   Pave   NaN      IR1   \n",
       "\n",
       "  LandContour Utilities  ... PoolArea PoolQC Fence MiscFeature MiscVal MoSold  \\\n",
       "0         Lvl    AllPub  ...        0    NaN   NaN         NaN       0      2   \n",
       "1         Lvl    AllPub  ...        0    NaN   NaN         NaN       0      5   \n",
       "2         Lvl    AllPub  ...        0    NaN   NaN         NaN       0      9   \n",
       "3         Lvl    AllPub  ...        0    NaN   NaN         NaN       0      2   \n",
       "4         Lvl    AllPub  ...        0    NaN   NaN         NaN       0     12   \n",
       "\n",
       "  YrSold  SaleType  SaleCondition  SalePrice  \n",
       "0   2008        WD         Normal     208500  \n",
       "1   2007        WD         Normal     181500  \n",
       "2   2008        WD         Normal     223500  \n",
       "3   2006        WD        Abnorml     140000  \n",
       "4   2008        WD         Normal     250000  \n",
       "\n",
       "[5 rows x 81 columns]"
      ]
     },
     "execution_count": 2,
     "metadata": {},
     "output_type": "execute_result"
    }
   ],
   "source": [
    "import pandas as pd\n",
    "\n",
    "test=pd.read_csv('test.csv')\n",
    "train=pd.read_csv('train.csv')\n",
    "train.head(5)"
   ]
  },
  {
   "cell_type": "markdown",
   "id": "b07bff4f-e833-49ac-bbf9-64968945ae3c",
   "metadata": {},
   "source": [
    "## Missing Data\n",
    "First I will look at the number of missing values in each column and the percentage of values that are missing"
   ]
  },
  {
   "cell_type": "code",
   "execution_count": 3,
   "id": "0179d301-e5a6-487a-a138-7e13c34c37cd",
   "metadata": {},
   "outputs": [
    {
     "data": {
      "text/html": [
       "<div>\n",
       "<style scoped>\n",
       "    .dataframe tbody tr th:only-of-type {\n",
       "        vertical-align: middle;\n",
       "    }\n",
       "\n",
       "    .dataframe tbody tr th {\n",
       "        vertical-align: top;\n",
       "    }\n",
       "\n",
       "    .dataframe thead th {\n",
       "        text-align: right;\n",
       "    }\n",
       "</style>\n",
       "<table border=\"1\" class=\"dataframe\">\n",
       "  <thead>\n",
       "    <tr style=\"text-align: right;\">\n",
       "      <th></th>\n",
       "      <th>Total</th>\n",
       "      <th>Percent</th>\n",
       "    </tr>\n",
       "  </thead>\n",
       "  <tbody>\n",
       "    <tr>\n",
       "      <th>PoolQC</th>\n",
       "      <td>1453</td>\n",
       "      <td>0.995205</td>\n",
       "    </tr>\n",
       "    <tr>\n",
       "      <th>MiscFeature</th>\n",
       "      <td>1406</td>\n",
       "      <td>0.963014</td>\n",
       "    </tr>\n",
       "    <tr>\n",
       "      <th>Alley</th>\n",
       "      <td>1369</td>\n",
       "      <td>0.937671</td>\n",
       "    </tr>\n",
       "    <tr>\n",
       "      <th>Fence</th>\n",
       "      <td>1179</td>\n",
       "      <td>0.807534</td>\n",
       "    </tr>\n",
       "    <tr>\n",
       "      <th>FireplaceQu</th>\n",
       "      <td>690</td>\n",
       "      <td>0.472603</td>\n",
       "    </tr>\n",
       "    <tr>\n",
       "      <th>LotFrontage</th>\n",
       "      <td>259</td>\n",
       "      <td>0.177397</td>\n",
       "    </tr>\n",
       "    <tr>\n",
       "      <th>GarageYrBlt</th>\n",
       "      <td>81</td>\n",
       "      <td>0.055479</td>\n",
       "    </tr>\n",
       "    <tr>\n",
       "      <th>GarageCond</th>\n",
       "      <td>81</td>\n",
       "      <td>0.055479</td>\n",
       "    </tr>\n",
       "    <tr>\n",
       "      <th>GarageType</th>\n",
       "      <td>81</td>\n",
       "      <td>0.055479</td>\n",
       "    </tr>\n",
       "    <tr>\n",
       "      <th>GarageFinish</th>\n",
       "      <td>81</td>\n",
       "      <td>0.055479</td>\n",
       "    </tr>\n",
       "    <tr>\n",
       "      <th>GarageQual</th>\n",
       "      <td>81</td>\n",
       "      <td>0.055479</td>\n",
       "    </tr>\n",
       "    <tr>\n",
       "      <th>BsmtFinType2</th>\n",
       "      <td>38</td>\n",
       "      <td>0.026027</td>\n",
       "    </tr>\n",
       "    <tr>\n",
       "      <th>BsmtExposure</th>\n",
       "      <td>38</td>\n",
       "      <td>0.026027</td>\n",
       "    </tr>\n",
       "    <tr>\n",
       "      <th>BsmtQual</th>\n",
       "      <td>37</td>\n",
       "      <td>0.025342</td>\n",
       "    </tr>\n",
       "    <tr>\n",
       "      <th>BsmtCond</th>\n",
       "      <td>37</td>\n",
       "      <td>0.025342</td>\n",
       "    </tr>\n",
       "    <tr>\n",
       "      <th>BsmtFinType1</th>\n",
       "      <td>37</td>\n",
       "      <td>0.025342</td>\n",
       "    </tr>\n",
       "    <tr>\n",
       "      <th>MasVnrArea</th>\n",
       "      <td>8</td>\n",
       "      <td>0.005479</td>\n",
       "    </tr>\n",
       "    <tr>\n",
       "      <th>MasVnrType</th>\n",
       "      <td>8</td>\n",
       "      <td>0.005479</td>\n",
       "    </tr>\n",
       "    <tr>\n",
       "      <th>Electrical</th>\n",
       "      <td>1</td>\n",
       "      <td>0.000685</td>\n",
       "    </tr>\n",
       "    <tr>\n",
       "      <th>Id</th>\n",
       "      <td>0</td>\n",
       "      <td>0.000000</td>\n",
       "    </tr>\n",
       "  </tbody>\n",
       "</table>\n",
       "</div>"
      ],
      "text/plain": [
       "              Total   Percent\n",
       "PoolQC         1453  0.995205\n",
       "MiscFeature    1406  0.963014\n",
       "Alley          1369  0.937671\n",
       "Fence          1179  0.807534\n",
       "FireplaceQu     690  0.472603\n",
       "LotFrontage     259  0.177397\n",
       "GarageYrBlt      81  0.055479\n",
       "GarageCond       81  0.055479\n",
       "GarageType       81  0.055479\n",
       "GarageFinish     81  0.055479\n",
       "GarageQual       81  0.055479\n",
       "BsmtFinType2     38  0.026027\n",
       "BsmtExposure     38  0.026027\n",
       "BsmtQual         37  0.025342\n",
       "BsmtCond         37  0.025342\n",
       "BsmtFinType1     37  0.025342\n",
       "MasVnrArea        8  0.005479\n",
       "MasVnrType        8  0.005479\n",
       "Electrical        1  0.000685\n",
       "Id                0  0.000000"
      ]
     },
     "execution_count": 3,
     "metadata": {},
     "output_type": "execute_result"
    }
   ],
   "source": [
    "total = train.isnull().sum().sort_values(ascending=False)\n",
    "percent = (train.isnull().sum()/train.isnull().count()).sort_values(ascending=False)\n",
    "missing_data = pd.concat([total, percent], axis=1, keys=['Total', 'Percent'])\n",
    "missing_data.head(20)"
   ]
  },
  {
   "cell_type": "markdown",
   "id": "560a490e-48c4-499c-a32e-feb40d1e10e2",
   "metadata": {},
   "source": [
    "As a number of them have significant numbers of missing values, I will remove these variables. I have defined that above 15% is a good value to remove from. To deal with the observations for electrical, MassVnrType and Area I will first plot these variables to see if the mean makes sense to use as a replacement. I will also plot a correlation plot to see if missing variables can be described by others."
   ]
  },
  {
   "cell_type": "code",
   "execution_count": 4,
   "id": "74ae2bd2-6b71-45cb-a884-343d46b2bad2",
   "metadata": {},
   "outputs": [],
   "source": [
    "train.drop([\"Id\"], axis = 1, inplace = True)\n",
    "test.drop([\"Id\"], axis = 1, inplace = True)"
   ]
  },
  {
   "cell_type": "code",
   "execution_count": 5,
   "id": "6dc09ead-b577-4cd9-a8ff-227c39a0a97c",
   "metadata": {},
   "outputs": [
    {
     "data": {
      "image/png": "[encoded data removed]",
      "text/plain": [
       "<Figure size 864x648 with 2 Axes>"
      ]
     },
     "metadata": {
      "needs_background": "light"
     },
     "output_type": "display_data"
    }
   ],
   "source": [
    "import seaborn as sns\n",
    "import matplotlib.pyplot as plt\n",
    "\n",
    "corr = train.corr()\n",
    "fig, ax = plt.subplots(figsize=(12,9))     \n",
    "sns.heatmap(corr, vmax=.8, square=True);"
   ]
  },
  {
   "cell_type": "code",
   "execution_count": 6,
   "id": "37e093bf-d992-4d43-b710-2d893e3d7f42",
   "metadata": {},
   "outputs": [
    {
     "data": {
      "text/html": [
       "<div>\n",
       "<style scoped>\n",
       "    .dataframe tbody tr th:only-of-type {\n",
       "        vertical-align: middle;\n",
       "    }\n",
       "\n",
       "    .dataframe tbody tr th {\n",
       "        vertical-align: top;\n",
       "    }\n",
       "\n",
       "    .dataframe thead th {\n",
       "        text-align: right;\n",
       "    }\n",
       "</style>\n",
       "<table border=\"1\" class=\"dataframe\">\n",
       "  <thead>\n",
       "    <tr style=\"text-align: right;\">\n",
       "      <th></th>\n",
       "      <th>GarageYrBlt</th>\n",
       "      <th>GarageCond</th>\n",
       "      <th>GarageType</th>\n",
       "      <th>GarageFinish</th>\n",
       "      <th>GarageQual</th>\n",
       "      <th>BsmtFinType2</th>\n",
       "      <th>BsmtExposure</th>\n",
       "      <th>BsmtQual</th>\n",
       "      <th>BsmtCond</th>\n",
       "      <th>BsmtFinType1</th>\n",
       "    </tr>\n",
       "  </thead>\n",
       "  <tbody>\n",
       "    <tr>\n",
       "      <th>0</th>\n",
       "      <td>2003.0</td>\n",
       "      <td>TA</td>\n",
       "      <td>Attchd</td>\n",
       "      <td>RFn</td>\n",
       "      <td>TA</td>\n",
       "      <td>Unf</td>\n",
       "      <td>No</td>\n",
       "      <td>Gd</td>\n",
       "      <td>TA</td>\n",
       "      <td>GLQ</td>\n",
       "    </tr>\n",
       "    <tr>\n",
       "      <th>1</th>\n",
       "      <td>1976.0</td>\n",
       "      <td>TA</td>\n",
       "      <td>Attchd</td>\n",
       "      <td>RFn</td>\n",
       "      <td>TA</td>\n",
       "      <td>Unf</td>\n",
       "      <td>Gd</td>\n",
       "      <td>Gd</td>\n",
       "      <td>TA</td>\n",
       "      <td>ALQ</td>\n",
       "    </tr>\n",
       "    <tr>\n",
       "      <th>2</th>\n",
       "      <td>2001.0</td>\n",
       "      <td>TA</td>\n",
       "      <td>Attchd</td>\n",
       "      <td>RFn</td>\n",
       "      <td>TA</td>\n",
       "      <td>Unf</td>\n",
       "      <td>Mn</td>\n",
       "      <td>Gd</td>\n",
       "      <td>TA</td>\n",
       "      <td>GLQ</td>\n",
       "    </tr>\n",
       "    <tr>\n",
       "      <th>3</th>\n",
       "      <td>1998.0</td>\n",
       "      <td>TA</td>\n",
       "      <td>Detchd</td>\n",
       "      <td>Unf</td>\n",
       "      <td>TA</td>\n",
       "      <td>Unf</td>\n",
       "      <td>No</td>\n",
       "      <td>TA</td>\n",
       "      <td>Gd</td>\n",
       "      <td>ALQ</td>\n",
       "    </tr>\n",
       "    <tr>\n",
       "      <th>4</th>\n",
       "      <td>2000.0</td>\n",
       "      <td>TA</td>\n",
       "      <td>Attchd</td>\n",
       "      <td>RFn</td>\n",
       "      <td>TA</td>\n",
       "      <td>Unf</td>\n",
       "      <td>Av</td>\n",
       "      <td>Gd</td>\n",
       "      <td>TA</td>\n",
       "      <td>GLQ</td>\n",
       "    </tr>\n",
       "  </tbody>\n",
       "</table>\n",
       "</div>"
      ],
      "text/plain": [
       "   GarageYrBlt GarageCond GarageType GarageFinish GarageQual BsmtFinType2  \\\n",
       "0       2003.0         TA     Attchd          RFn         TA          Unf   \n",
       "1       1976.0         TA     Attchd          RFn         TA          Unf   \n",
       "2       2001.0         TA     Attchd          RFn         TA          Unf   \n",
       "3       1998.0         TA     Detchd          Unf         TA          Unf   \n",
       "4       2000.0         TA     Attchd          RFn         TA          Unf   \n",
       "\n",
       "  BsmtExposure BsmtQual BsmtCond BsmtFinType1  \n",
       "0           No       Gd       TA          GLQ  \n",
       "1           Gd       Gd       TA          ALQ  \n",
       "2           Mn       Gd       TA          GLQ  \n",
       "3           No       TA       Gd          ALQ  \n",
       "4           Av       Gd       TA          GLQ  "
      ]
     },
     "execution_count": 6,
     "metadata": {},
     "output_type": "execute_result"
    }
   ],
   "source": [
    "miss=train[[\"GarageYrBlt\",\n",
    "\"GarageCond\",\n",
    "\"GarageType\",\n",
    "\"GarageFinish\",\n",
    "\"GarageQual\",\n",
    "\"BsmtFinType2\",\n",
    "\"BsmtExposure\",\n",
    "\"BsmtQual\",\n",
    "\"BsmtCond\",\n",
    "\"BsmtFinType1\"]]\n",
    "miss.head()"
   ]
  },
  {
   "cell_type": "markdown",
   "id": "0d7d4109-d173-451f-aa1f-5bacd1cc6045",
   "metadata": {},
   "source": [
    "As there is no way of finding these missing values and that these are not the most import features for prediction we will drop these columns. Also should be noted that garage year built is very strongly correlated to house build year."
   ]
  },
  {
   "cell_type": "code",
   "execution_count": 7,
   "id": "e60df855-3810-4b52-b283-3477fd3534b4",
   "metadata": {},
   "outputs": [
    {
     "data": {
      "image/png": "[encoded data removed]",
      "text/plain": [
       "<Figure size 360x360 with 1 Axes>"
      ]
     },
     "metadata": {
      "needs_background": "light"
     },
     "output_type": "display_data"
    }
   ],
   "source": [
    "sns.displot(train['Electrical']);"
   ]
  },
  {
   "cell_type": "code",
   "execution_count": 8,
   "id": "a0e4c300-e156-4d05-ba12-4f3c18828e6f",
   "metadata": {},
   "outputs": [
    {
     "data": {
      "image/png": "[encoded data removed]",
      "text/plain": [
       "<Figure size 360x360 with 1 Axes>"
      ]
     },
     "metadata": {
      "needs_background": "light"
     },
     "output_type": "display_data"
    }
   ],
   "source": [
    "sns.displot(train['MasVnrArea']);"
   ]
  },
  {
   "cell_type": "code",
   "execution_count": 9,
   "id": "1f8620c8-fa8f-4a69-b088-84cfc1fa83b1",
   "metadata": {},
   "outputs": [
    {
     "data": {
      "image/png": "[encoded data removed]",
      "text/plain": [
       "<Figure size 360x360 with 1 Axes>"
      ]
     },
     "metadata": {
      "needs_background": "light"
     },
     "output_type": "display_data"
    }
   ],
   "source": [
    "sns.displot(train['MasVnrType']);"
   ]
  },
  {
   "cell_type": "markdown",
   "id": "9cfa45be-219a-48c1-bcc0-cdd7f40ca04a",
   "metadata": {},
   "source": [
    "Masonry veneer and MasVnrArea: Masonry veneer are not important features and are impossible to get replace the variable, this is because it is categorical for one while the area there is a large peak around 0. These will be removed, the 1 entry for electrical will also be removed because again it cant be replaced."
   ]
  },
  {
   "cell_type": "code",
   "execution_count": 10,
   "id": "c407ab64-af05-4ce7-bea6-55828f0e1202",
   "metadata": {},
   "outputs": [
    {
     "name": "stderr",
     "output_type": "stream",
     "text": [
      "C:\\Users\\Andrew\\AppData\\Local\\Temp/ipykernel_13868/1459822559.py:1: FutureWarning: In a future version of pandas all arguments of DataFrame.drop except for the argument 'labels' will be keyword-only\n",
      "  train.drop((missing_data[missing_data['Total'] > 1]).index,1, inplace = True)\n"
     ]
    }
   ],
   "source": [
    "train.drop((missing_data[missing_data['Total'] > 1]).index,1, inplace = True)\n",
    "train.drop(train.loc[train['Electrical'].isnull()].index, inplace = True)"
   ]
  },
  {
   "cell_type": "markdown",
   "id": "b2d1f1dc-14b3-435c-80c4-0bdf89baa03c",
   "metadata": {},
   "source": [
    "## Data Visulization\n",
    "First we need to look at sale price as this is what we are trying to predict."
   ]
  },
  {
   "cell_type": "code",
   "execution_count": 11,
   "id": "92f7dff9-82bc-413b-aced-c24890612cc1",
   "metadata": {},
   "outputs": [
    {
     "data": {
      "text/plain": [
       "<seaborn.axisgrid.FacetGrid at 0x2d7e98abbe0>"
      ]
     },
     "execution_count": 11,
     "metadata": {},
     "output_type": "execute_result"
    },
    {
     "data": {
      "image/png": "[encoded data removed]",
      "text/plain": [
       "<Figure size 360x360 with 1 Axes>"
      ]
     },
     "metadata": {
      "needs_background": "light"
     },
     "output_type": "display_data"
    }
   ],
   "source": [
    "sns.displot(train['SalePrice'],kde=True)"
   ]
  },
  {
   "cell_type": "markdown",
   "id": "95b5205b-4d6d-4a16-b336-2e1283dcf688",
   "metadata": {},
   "source": [
    "This plot is right skewed (which you can measure). As we know that machine learning algorithms prefer normally distributed values this will need to transformed by taking the log."
   ]
  },
  {
   "cell_type": "code",
   "execution_count": 12,
   "id": "e818697b-4b36-44f0-9db2-adbec8387059",
   "metadata": {},
   "outputs": [],
   "source": [
    "import numpy as np\n",
    "train[\"SalePrice\"] = np.log1p(train[\"SalePrice\"])"
   ]
  },
  {
   "cell_type": "markdown",
   "id": "29227b99-656a-4d41-92fc-e7a49e8f00bb",
   "metadata": {},
   "source": [
    "## Preparing data for Machine learning\n",
    "We need to prepare the data for use in the machine learning models. First we need to split the data into a test and train set. I will then use a pipeline to transform all the data in a efficient way. For the numerical data I will just use Standard Scalar, this will scale all the values to be in the same range. This is useful for instance if we where comparing age (0-100) and wage (0-100000) these would have a different effect due to the different ranges of values. The ordinal encoder will change all the categorical variables into numbers so they can be used in the machine learning algorithm."
   ]
  },
  {
   "cell_type": "code",
   "execution_count": 13,
   "id": "1cec0a3f-a9e6-440b-a3ee-c9330a85f93d",
   "metadata": {},
   "outputs": [],
   "source": [
    "from sklearn.model_selection import train_test_split\n",
    "train_set, test_set = train_test_split(train,test_size=0.2)\n",
    "train_y=train_set[\"SalePrice\"]\n",
    "train_x=train_set.drop([\"SalePrice\"], axis=1)\n",
    "test_y=test_set[\"SalePrice\"]\n",
    "test_x=test_set.drop([\"SalePrice\"], axis=1)"
   ]
  },
  {
   "cell_type": "code",
   "execution_count": 14,
   "id": "0bf0278b-88d8-4a34-b815-8bc2c8de2185",
   "metadata": {},
   "outputs": [],
   "source": [
    "train_set_num=train_x.select_dtypes(include=[np.number])\n",
    "train_set_ob=train_x.select_dtypes(include=[object])\n",
    "num_column=list(train_set_num.columns)\n",
    "ob_column=list(train_set_ob.columns)"
   ]
  },
  {
   "cell_type": "code",
   "execution_count": 21,
   "id": "53a7df5c-80b4-40ed-b34d-ae3881500570",
   "metadata": {},
   "outputs": [],
   "source": [
    "from sklearn.pipeline import Pipeline\n",
    "from sklearn.preprocessing import StandardScaler\n",
    "from sklearn.preprocessing import OrdinalEncoder\n",
    "from sklearn.compose import ColumnTransformer\n",
    "\n",
    "num_pipeline = Pipeline([\n",
    "        ('std_scaler', StandardScaler()),\n",
    "    ])\n",
    "\n",
    "full_pipeline = ColumnTransformer([\n",
    "        (\"num\", num_pipeline, num_column),\n",
    "        (\"cat\", OrdinalEncoder(), ob_column),\n",
    "    ])\n",
    "\n",
    "train_prepared = full_pipeline.fit_transform(train_x)\n",
    "test_x = full_pipeline.fit_transform(test_x)"
   ]
  },
  {
   "cell_type": "markdown",
   "id": "eb29a254-e8f6-4877-83cd-e87766dad174",
   "metadata": {},
   "source": [
    "## Machine Learning Models\n",
    "Now that is ready I will start building the models and uses cross_val_score to be able to find the root mean square error. "
   ]
  },
  {
   "cell_type": "code",
   "execution_count": 22,
   "id": "5bf32867-e31a-4842-b6c7-24f0330ff393",
   "metadata": {},
   "outputs": [],
   "source": [
    "from sklearn.linear_model import LinearRegression, SGDRegressor, Ridge, Lasso, ElasticNet\n",
    "from sklearn.model_selection import cross_val_score\n",
    "from sklearn.ensemble import GradientBoostingRegressor\n",
    "import xgboost as xgb"
   ]
  },
  {
   "cell_type": "code",
   "execution_count": 31,
   "id": "0ac85b4b-ec8f-489a-a391-28549f2e35a8",
   "metadata": {},
   "outputs": [],
   "source": [
    "from sklearn.metrics import r2_score\n",
    "from sklearn.metrics import mean_squared_error\n",
    "from sklearn.model_selection import cross_val_score\n",
    "\n",
    "def eval(model,test_x,test_y):\n",
    "    ymul=model.predict(test_x)\n",
    "    print(\"Model score: %.4f\" % model.score(test_x,test_y))  # This is just shorthand for the R2 score\n",
    "    print(\"Mean absolute error: %.4f\" % mean_squared_error(ymul,test_y))\n",
    "    print(\"R2-score: %.4f\" % r2_score(test_y , ymul) )\n",
    "    score=np.sqrt(-cross_val_score(model, train_prepared, train_y, scoring=\"neg_mean_squared_error\", cv = 10))\n",
    "    print(\"RMSE score: {:.4f} ({:.4f})\\n\".format(score.mean(), score.std()))"
   ]
  },
  {
   "cell_type": "markdown",
   "id": "72c65766-d29c-4fcc-a7c5-3c480b80ca46",
   "metadata": {},
   "source": [
    "#### Evaluation Scores\n",
    "* Mean Absolute Error: It is the mean of the absolute value of the errors. This is the easiest of the metrics to understand since it’s just average error.\n",
    "* Mean Squared Error (MSE): Mean Squared Error (MSE) is the mean of the squared error. It’s more popular than Mean Absolute Error because the focus is geared more towards large errors. This is due to the squared term exponentially increasing larger errors in comparison to smaller ones.\n",
    "* Root Mean Squared Error (RMSE). RMSD is the square root of the average of squared errors. The effect of each error on RMSD is proportional to the size of the squared error; thus larger errors have a disproportionately large effect on RMSD. Consequently, RMSD is sensitive to outliers\n",
    "* R-squared is not an error, but rather a popular metric to measure the performance of your regression model. It represents how close the data points are to the fitted regression line. The higher the R-squared value, the better the model fits your data. The best possible score is 1.0 and it can be negative (because the model can be arbitrarily worse)."
   ]
  },
  {
   "cell_type": "markdown",
   "id": "530551b7-6f17-4fce-85c7-459b94154320",
   "metadata": {},
   "source": [
    "### Linear Regression based models"
   ]
  },
  {
   "cell_type": "markdown",
   "id": "30aaf8d3-4ede-403b-be4a-8bc92c4bb9d4",
   "metadata": {},
   "source": [
    "When trying to fit a LinearRegression model you are trying to minise the cost function which is the mean square error. There are 2 main ways of doing this mathmatically. These are the normal equation and Singular Value Decompostion, with the implementation in sklearn using SVD. These however have the problem that they scale porely with large data sets. "
   ]
  },
  {
   "cell_type": "code",
   "execution_count": 24,
   "id": "dc243277-ed93-4516-b797-4bd94317af75",
   "metadata": {},
   "outputs": [
    {
     "name": "stdout",
     "output_type": "stream",
     "text": [
      "Model score: -91624726012244539736064.00\n",
      "Mean absolute error: 91208199989.73\n",
      "Residual sum of squares (MSE): 14830049213229899448320.00\n",
      "R2-score: -91624726012244539736064.00\n",
      "RMSE score: 25004361.5346 (75013084.1078)\n",
      "\n"
     ]
    }
   ],
   "source": [
    "lin_reg=LinearRegression()\n",
    "lin_reg.fit(train_prepared,train_y)\n",
    "eval(lin_reg,test_x,test_y)"
   ]
  },
  {
   "cell_type": "markdown",
   "id": "99570954-4aae-47ac-8f8a-597c18f22d1d",
   "metadata": {},
   "source": [
    "When the data set is large you can train the model instead using gradient decent. The basic idea of this is to tweak the feature of the cost function iteratively to minimize the cost function. The anology that is often given is if you are on a mountian and trying to find the way down, you could look at the steepness of the slope and go where the steepness is greatest. The most important parameter of this method is the learning rate, this is because a small value will take a long time to converge to the correct value. While a large one the model would bounce around the optimal soluation making the model diverge. Another problem with this method is if the cost function is not a nice regular bowl. This could lead to the soluation actually being a local minumum rather than a global minumum. However this isnt a problem with the MSE cost function as it happens to be a convex function. This means that if you pick 2 point on the curve the line segment joining them would never cross the curve.                                           \n",
    "If you use the whole training set for this then it is known as batch gradient decent, this however has the problem of taking a long time with large data sets. To try and solve this problem we can use Stochastic gradient descent. In this you pick a random instance from training set and calulate the gradiants based only on that instance. This increases the speed of the calculation as it only does it on a small amount of data. However due to the randomness of this procress the cost function will bounce around and will never settle at the global miniumum, this however can sometimes help if the cost function has local minimums it can bounce out of it. The method is impletmented in SGDRegressor.           \n",
    "You can also have a mini-batch gradient decent, this computes of the cost function on a small random subset of the overall data.  "
   ]
  },
  {
   "cell_type": "code",
   "execution_count": 25,
   "id": "23ffe85d-e62c-4914-a7a6-cc096a28fe4b",
   "metadata": {},
   "outputs": [
    {
     "name": "stdout",
     "output_type": "stream",
     "text": [
      "Model score: -4961167323682627819405312.00\n",
      "Mean absolute error: 750067587426.50\n",
      "Residual sum of squares (MSE): 802996732076984438358016.00\n",
      "R2-score: -4961167323682627819405312.00\n",
      "RMSE score: 1437236912206.0210 (668643042262.1066)\n",
      "\n"
     ]
    }
   ],
   "source": [
    "sgd_reg=SGDRegressor(max_iter=1000,tol=1e-3,penalty=None,eta0=0.1)\n",
    "sgd_reg.fit(train_prepared,train_y)\n",
    "eval(sgd_reg,test_x,test_y)"
   ]
  },
  {
   "cell_type": "markdown",
   "id": "d93e42df-79af-45a2-85e1-50f37cb34b81",
   "metadata": {},
   "source": [
    "Sometimes when we make a model it will overfit the data. A good way to reduce this is to regularize the model (constrain it). For a linear model the normal way is to constrain the weights of the model. The first one I will try in this is ridge regression, in this a term is added to the cost function to keep the model weights as small as possible. They hyperparameters alpha controles how much you want this model to regularize, =0 is just linear regression and =1 means all the weights will be close to 0. "
   ]
  },
  {
   "cell_type": "code",
   "execution_count": 26,
   "id": "13afb7ad-6d43-4568-98bd-6c3344c8ffb7",
   "metadata": {},
   "outputs": [
    {
     "name": "stdout",
     "output_type": "stream",
     "text": [
      "Model score: 0.91\n",
      "Mean absolute error: 0.09\n",
      "Residual sum of squares (MSE): 0.01\n",
      "R2-score: 0.91\n",
      "RMSE score: 0.1599 (0.0499)\n",
      "\n"
     ]
    }
   ],
   "source": [
    "ridge_reg=Ridge(alpha=1,solver=\"cholesky\")\n",
    "ridge_reg.fit(train_prepared,train_y)\n",
    "eval(ridge_reg,test_x,test_y)"
   ]
  },
  {
   "cell_type": "markdown",
   "id": "dbcefa9e-c948-4897-8953-52d71497c318",
   "metadata": {},
   "source": [
    "Lasso regression is next and this has the characteristic that the least important feature weights tend towards 0, this allows for automatic feature selection which sometimes can be useful."
   ]
  },
  {
   "cell_type": "code",
   "execution_count": 27,
   "id": "01f9b995-44f2-4f09-90e6-3e698b3490a7",
   "metadata": {},
   "outputs": [
    {
     "name": "stdout",
     "output_type": "stream",
     "text": [
      "Model score: 0.70\n",
      "Mean absolute error: 0.17\n",
      "Residual sum of squares (MSE): 0.05\n",
      "R2-score: 0.70\n",
      "RMSE score: 0.2231 (0.0232)\n",
      "\n"
     ]
    }
   ],
   "source": [
    "lasso_reg=Lasso(alpha =0.1, random_state=1)\n",
    "lasso_reg.fit(train_prepared,train_y)\n",
    "eval(lasso_reg,test_x,test_y)"
   ]
  },
  {
   "cell_type": "markdown",
   "id": "2cf60b4b-0f7d-44da-b2a4-5cce0701af82",
   "metadata": {},
   "source": [
    "Elastic net is the middle ground between lasso and ridge. The l1_ratio defines the mixing between them (=1 is just lasso)"
   ]
  },
  {
   "cell_type": "code",
   "execution_count": 28,
   "id": "f28d15ae-853d-4643-9fb5-f76530c23fbf",
   "metadata": {},
   "outputs": [
    {
     "name": "stdout",
     "output_type": "stream",
     "text": [
      "Model score: 0.82\n",
      "Mean absolute error: 0.13\n",
      "Residual sum of squares (MSE): 0.03\n",
      "R2-score: 0.82\n",
      "RMSE score: 0.1875 (0.0310)\n",
      "\n"
     ]
    }
   ],
   "source": [
    "elastic_net = ElasticNet(alpha=0.1,l1_ratio=0.5)\n",
    "elastic_net.fit(train_prepared,train_y)\n",
    "eval(elastic_net,test_x,test_y)"
   ]
  },
  {
   "cell_type": "markdown",
   "id": "aee46c4c-ea27-4836-91a6-6c4d6aceeb60",
   "metadata": {},
   "source": [
    "#### Optimizing the hyperparameters\n",
    "As the regularized models have hyperparameters we need to choose them. Just based on knowledge we would probably get to the correct area of the model but they will never be perfect. Luckily sklearn has a built in method called GridSearchCV and RandomizedSeachCV that will allow you to find the correct values better. GridSearchCV takes a list of values for the hyperparameters you want to try while RandomizedSeachCV takes a range of values and the number of times to run to get the best soluation. The works very well with small numbers of hyperparamters."
   ]
  },
  {
   "cell_type": "markdown",
   "id": "e4368f82-a81e-4c69-aed4-57e938af4978",
   "metadata": {},
   "source": [
    "##### Ridge Regression"
   ]
  },
  {
   "cell_type": "code",
   "execution_count": 34,
   "id": "a29888e7-874f-41d3-8661-6d39a0a0cbce",
   "metadata": {},
   "outputs": [
    {
     "name": "stdout",
     "output_type": "stream",
     "text": [
      "RandomSearch best Ridge(alpha=251, solver='cholesky')\n",
      "GridSearch best Ridge(alpha=11, solver='cholesky')\n"
     ]
    },
    {
     "name": "stderr",
     "output_type": "stream",
     "text": [
      "C:\\Users\\Andrew\\AppData\\Local\\Programs\\Python\\Python39\\lib\\site-packages\\sklearn\\linear_model\\_ridge.py:147: LinAlgWarning: Ill-conditioned matrix (rcond=3.09532e-18): result may not be accurate.\n",
      "  return linalg.solve(A, Xy, sym_pos=True,\n"
     ]
    }
   ],
   "source": [
    "from sklearn.model_selection import RandomizedSearchCV, GridSearchCV\n",
    "from scipy.stats import randint\n",
    "\n",
    "param_grid= {'alpha': randint(low=0.0, high=300.0), }\n",
    "rnd_search = RandomizedSearchCV(ridge_reg, param_distributions=param_grid, n_iter=300, cv=5, scoring='neg_mean_squared_error', random_state=42)\n",
    "rnd_search.fit(train_prepared, train_y)\n",
    "print(\"RandomSearch best\", rnd_search.best_estimator_)\n",
    "\n",
    "param_grid = [ {'alpha': [0,11]}  ]\n",
    "grid_search = GridSearchCV(ridge_reg, param_grid, cv=5, scoring='neg_mean_squared_error',return_train_score=True)\n",
    "grid_search.fit(train_prepared, train_y)\n",
    "print(\"GridSearch best\", grid_search.best_estimator_)"
   ]
  },
  {
   "cell_type": "code",
   "execution_count": 35,
   "id": "bbc15016-c96c-4a7b-9e68-cc0252313c31",
   "metadata": {},
   "outputs": [
    {
     "name": "stdout",
     "output_type": "stream",
     "text": [
      "Model score: 0.91\n",
      "Mean absolute error: 0.01\n",
      "R2-score: 0.91\n",
      "RMSE score: 0.1558 (0.0472)\n",
      "\n"
     ]
    }
   ],
   "source": [
    "ridge_reg=Ridge(alpha=242,solver=\"cholesky\")\n",
    "ridge_reg.fit(train_prepared,train_y)\n",
    "eval(ridge_reg,test_x,test_y)"
   ]
  },
  {
   "cell_type": "markdown",
   "id": "65546826-abc4-4dac-ac67-a548e0ee3b25",
   "metadata": {},
   "source": [
    "##### Lasso Regression"
   ]
  },
  {
   "cell_type": "code",
   "execution_count": 36,
   "id": "ace69993-4771-4e00-ba17-5da5a2109e0e",
   "metadata": {},
   "outputs": [
    {
     "name": "stdout",
     "output_type": "stream",
     "text": [
      "RandomSearch best Lasso(alpha=51, random_state=1)\n",
      "GridSearch best Lasso(alpha=0.0005, random_state=1)\n"
     ]
    }
   ],
   "source": [
    "param_grid= {'alpha': randint(low=0.0005, high=100),}\n",
    "rnd_search = RandomizedSearchCV(lasso_reg, param_distributions=param_grid,n_iter=100, cv=5, scoring='neg_mean_squared_error', random_state=42)\n",
    "rnd_search.fit(train_prepared, train_y)\n",
    "print(\"RandomSearch best\", rnd_search.best_estimator_)\n",
    "\n",
    "param_grid = [{'alpha': [0.0005,0.1,0.2,10,51]} ]\n",
    "grid_search = GridSearchCV(lasso_reg, param_grid, cv=5,scoring='neg_mean_squared_error',return_train_score=True)\n",
    "grid_search.fit(train_prepared, train_y)\n",
    "print(\"GridSearch best\", grid_search.best_estimator_)"
   ]
  },
  {
   "cell_type": "code",
   "execution_count": 37,
   "id": "32bde148-f880-4e04-9d3e-3952f3e65560",
   "metadata": {},
   "outputs": [
    {
     "name": "stdout",
     "output_type": "stream",
     "text": [
      "Model score: 0.91\n",
      "Mean absolute error: 0.01\n",
      "R2-score: 0.91\n",
      "RMSE score: 0.1585 (0.0504)\n",
      "\n"
     ]
    }
   ],
   "source": [
    "lasso_reg=Lasso(alpha =0.0005, random_state=1)\n",
    "lasso_reg.fit(train_prepared,train_y)\n",
    "eval(lasso_reg,test_x,test_y)"
   ]
  },
  {
   "cell_type": "markdown",
   "id": "4fa2a7cc-1516-473c-b02e-b94757f43055",
   "metadata": {},
   "source": [
    "##### Elastic Net Regression"
   ]
  },
  {
   "cell_type": "code",
   "execution_count": 38,
   "id": "7471fd69-6c1c-4ab8-b135-dbb0592535ef",
   "metadata": {},
   "outputs": [
    {
     "name": "stdout",
     "output_type": "stream",
     "text": [
      "GridSearch best ElasticNet(alpha=0.1, l1_ratio=0.1)\n"
     ]
    }
   ],
   "source": [
    "param_grid= {'alpha': randint(low=0.1, high=1),'l1_ratio': randint(low=0.1, high=1)}\n",
    "#rnd_search = RandomizedSearchCV(elastic_net, param_distributions=param_grid,n_iter=10, cv=5, scoring='neg_mean_squared_error', random_state=42)\n",
    "#rnd_search.fit(train_prepared, train_y)\n",
    "\n",
    "param_grid = [{'alpha': [0.1,0.2],'l1_ratio': [0.1,0.5,0.9,1] } ]\n",
    "grid_search = GridSearchCV(elastic_net, param_grid, cv=5, scoring='neg_mean_squared_error',return_train_score=True)\n",
    "grid_search.fit(train_prepared, train_y)\n",
    "print(\"GridSearch best\", grid_search.best_estimator_)"
   ]
  },
  {
   "cell_type": "code",
   "execution_count": 39,
   "id": "2c2cd3ce-d6bf-40ae-aff1-d1489546cfba",
   "metadata": {},
   "outputs": [
    {
     "name": "stdout",
     "output_type": "stream",
     "text": [
      "Model score: 0.90\n",
      "Mean absolute error: 0.02\n",
      "R2-score: 0.90\n",
      "RMSE score: 0.1583 (0.0438)\n",
      "\n"
     ]
    }
   ],
   "source": [
    "elastic_net = ElasticNet(alpha=0.1,l1_ratio=0.1)\n",
    "elastic_net.fit(train_prepared,train_y)\n",
    "eval(elastic_net,test_x,test_y)"
   ]
  },
  {
   "cell_type": "markdown",
   "id": "70f86599-d2a8-43b9-95cc-b08218d798c8",
   "metadata": {},
   "source": [
    "### Decsion tree based regression"
   ]
  },
  {
   "cell_type": "markdown",
   "id": "40de5cbf-dc4f-4006-8cfa-52fc5bff2d47",
   "metadata": {},
   "source": [
    "A decision tree is normally used for classification but can also but done for regression. A decision tree works by asking a intial question at the root node for instance in this case is the sale condition normal and then depending on the answer you go down one of the nodes to another question if needed (for simple datasets it may not be needed to be able to divide the data up). You measure the impurity of the node called gini, if the node is complety pure then it would =0. In skearn it uses the CART algorithm, this works by splitting the data set into 2 subsets using a single feature and a threshold, it then continues to do this until the max depth is reached or a split will not reduce the impurity. To use this for regression it is very similar, however instead of predicting a class to assign to it predicts a value. You have to be careful though as not setting a maximum depth would normally result in overfitting."
   ]
  },
  {
   "cell_type": "code",
   "execution_count": 41,
   "id": "568e4346-ef58-44ad-8fc3-24b145ece0ec",
   "metadata": {},
   "outputs": [
    {
     "name": "stdout",
     "output_type": "stream",
     "text": [
      "Model score: 0.72\n",
      "Mean absolute error: 0.04\n",
      "R2-score: 0.72\n",
      "RMSE score: 0.2055 (0.0337)\n",
      "\n"
     ]
    }
   ],
   "source": [
    "from sklearn.tree import DecisionTreeRegressor\n",
    "\n",
    "tree_reg = DecisionTreeRegressor(max_depth=5)\n",
    "tree_reg.fit(train_prepared,train_y)\n",
    "eval(tree_reg,test_x,test_y)"
   ]
  },
  {
   "cell_type": "markdown",
   "id": "0048bcae-4765-4037-8b02-0175e89748aa",
   "metadata": {},
   "source": [
    "### Ensemble Learning"
   ]
  },
  {
   "cell_type": "markdown",
   "id": "08d53e2b-f2c8-4bdf-a543-b81fbd708c54",
   "metadata": {},
   "source": [
    "#### Bagging"
   ]
  },
  {
   "cell_type": "markdown",
   "id": "e320e822-c3ce-4a5f-8ea6-7d4eb09fc533",
   "metadata": {},
   "source": [
    "A random forest algorthim is a ensemble of decesion trees trained using the bagging method. This involves using the same algorithm and training them on a subets of the training data, once this is done the ensemble makes predictions by agregating the result (most frequent for classification and average for regression).  "
   ]
  },
  {
   "cell_type": "code",
   "execution_count": 52,
   "id": "1844e129-fd95-4a74-af24-34fb168a36e5",
   "metadata": {},
   "outputs": [
    {
     "name": "stdout",
     "output_type": "stream",
     "text": [
      "Model score: 0.86\n",
      "Mean absolute error: 0.02\n",
      "R2-score: 0.86\n",
      "RMSE score: 0.1648 (0.0262)\n",
      "\n"
     ]
    }
   ],
   "source": [
    "from sklearn.ensemble import RandomForestRegressor\n",
    "\n",
    "rmdtree_reg = RandomForestRegressor(max_depth=5)\n",
    "rmdtree_reg.fit(train_prepared,train_y)\n",
    "eval(rmdtree_reg,test_x,test_y)"
   ]
  },
  {
   "cell_type": "markdown",
   "id": "fa2caf78-8f7c-4792-ab0e-9ff250f39b1d",
   "metadata": {},
   "source": [
    "I have also done a small trail using bagging regressor for the ridge model, 0.1558 (0.0472) was before without bagging. This does decrease a little when bagging included"
   ]
  },
  {
   "cell_type": "code",
   "execution_count": 53,
   "id": "bf15f707-0861-46ad-afdf-5950c9b67587",
   "metadata": {},
   "outputs": [
    {
     "name": "stdout",
     "output_type": "stream",
     "text": [
      "Model score: 0.91\n",
      "Mean absolute error: 0.01\n",
      "R2-score: 0.91\n",
      "RMSE score: 0.1545 (0.0485)\n",
      "\n"
     ]
    }
   ],
   "source": [
    "from sklearn.ensemble import BaggingRegressor\n",
    "\n",
    "bag_reg=BaggingRegressor(base_estimator=Ridge(alpha=242,solver=\"cholesky\"), n_estimators=500)\n",
    "bag_reg.fit(train_prepared,train_y)\n",
    "eval(bag_reg,test_x,test_y)"
   ]
  },
  {
   "cell_type": "markdown",
   "id": "8a56f78a-2b7e-4d15-8dca-da5129eab4d8",
   "metadata": {},
   "source": [
    "#### Boosting\n",
    "This combineds several week learners into a stronger leaner, with the general idea is to train models one after another with each trying to correct the previouses error. "
   ]
  },
  {
   "cell_type": "markdown",
   "id": "ac90e0e8-7f74-40d0-8c0b-6958f2c1e555",
   "metadata": {},
   "source": [
    "##### AdaBoost \n",
    "Using adaboost is when the next training instance pays more atention to previous training instances where it underfitted. This will keep going focussing on the harder to fit cases. For example when the first algorithm trains it will have some misslassified training instances, on the next instance it will increase the weight of the missclassified instances and then trains again. This will produces the final model."
   ]
  },
  {
   "cell_type": "code",
   "execution_count": 54,
   "id": "22d32c7c-bbb8-418b-98be-24386a037fbd",
   "metadata": {},
   "outputs": [
    {
     "name": "stdout",
     "output_type": "stream",
     "text": [
      "Model score: 0.83\n",
      "Mean absolute error: 0.03\n",
      "R2-score: 0.83\n",
      "RMSE score: 0.1769 (0.0209)\n",
      "\n"
     ]
    }
   ],
   "source": [
    "from sklearn.ensemble import AdaBoostRegressor\n",
    "\n",
    "regr = AdaBoostRegressor(random_state=0, n_estimators=100)\n",
    "regr.fit(train_prepared,train_y)\n",
    "eval(regr,test_x,test_y)"
   ]
  },
  {
   "cell_type": "markdown",
   "id": "e2e9e64d-4c50-4c43-a716-da9549203f3c",
   "metadata": {},
   "source": [
    "##### Gradient Boosting\n",
    "This works in a very similar was as adaboost but trys to fit to the residual erros made by the previous predictor. "
   ]
  },
  {
   "cell_type": "code",
   "execution_count": 55,
   "id": "29a90941-df53-4b40-a1f3-6a6861c6c25c",
   "metadata": {},
   "outputs": [
    {
     "name": "stdout",
     "output_type": "stream",
     "text": [
      "Model score: 0.90\n",
      "Mean absolute error: 0.02\n",
      "R2-score: 0.90\n",
      "RMSE score: 0.1315 (0.0282)\n",
      "\n"
     ]
    }
   ],
   "source": [
    "GBoost = GradientBoostingRegressor(n_estimators=3000, learning_rate=0.05,\n",
    "                                   max_depth=4, max_features='sqrt',\n",
    "                                   min_samples_leaf=15, min_samples_split=10, \n",
    "                                   loss='huber', random_state =5)\n",
    "\n",
    "GBoost.fit(train_prepared,train_y)\n",
    "eval(GBoost,test_x,test_y)"
   ]
  },
  {
   "cell_type": "markdown",
   "id": "88c353c9-1448-4368-89f0-35ca17c1db1f",
   "metadata": {},
   "source": [
    "A optimerized version of this algorithm exists in xgboost"
   ]
  },
  {
   "cell_type": "code",
   "execution_count": 56,
   "id": "8e10f022-52c1-441f-989b-45551e580463",
   "metadata": {},
   "outputs": [
    {
     "name": "stdout",
     "output_type": "stream",
     "text": [
      "Model score: 0.92\n",
      "Mean absolute error: 0.01\n",
      "R2-score: 0.92\n",
      "RMSE score: 0.1272 (0.0217)\n",
      "\n"
     ]
    }
   ],
   "source": [
    "model_xgb = xgb.XGBRegressor(colsample_bytree=0.4, gamma=0.05, \n",
    "                             learning_rate=0.05, max_depth=3, \n",
    "                             min_child_weight=1.78, n_estimators=2200,\n",
    "                             reg_alpha=0.46, reg_lambda=0.85,\n",
    "                             subsample=0.52, verbosity=0,\n",
    "                             random_state =7, nthread = -1)\n",
    "model_xgb.fit(train_prepared,train_y)\n",
    "eval(model_xgb,test_x,test_y)"
   ]
  },
  {
   "cell_type": "markdown",
   "id": "d68bc912-ae2f-4719-82c2-bf7c1fef9a96",
   "metadata": {},
   "source": [
    "##### Stacking models \n",
    "This can work in 2 ways, you can use trival functions to affregate predications together or train a model to perform the aggregation instead. "
   ]
  },
  {
   "cell_type": "code",
   "execution_count": 58,
   "id": "3783dc7e-cfc9-4c11-8713-583e3b9d82e8",
   "metadata": {},
   "outputs": [
    {
     "name": "stdout",
     "output_type": "stream",
     "text": [
      "Model score: 0.92\n",
      "Mean absolute error: 0.01\n",
      "R2-score: 0.92\n",
      "RMSE score: 0.1444 (0.0235)\n",
      "\n"
     ]
    }
   ],
   "source": [
    "from sklearn.ensemble import StackingRegressor\n",
    "\n",
    "model_xgb2 = xgb.XGBRegressor(colsample_bytree=0.4, gamma=0.05, \n",
    "                             learning_rate=0.05, max_depth=3, \n",
    "                             min_child_weight=1.78, n_estimators=2200,\n",
    "                             reg_alpha=0.46, reg_lambda=0.85,\n",
    "                             subsample=0.52, verbosity=0,\n",
    "                             random_state =7, nthread = -1)\n",
    "rmdtree_reg2 = RandomForestRegressor(max_depth=5)\n",
    "bag_reg2=BaggingRegressor(base_estimator=Ridge(alpha=242,solver=\"cholesky\"), n_estimators=500)\n",
    "regr2 = AdaBoostRegressor(random_state=0, n_estimators=100)\n",
    "\n",
    "estimators = [('RandomForst',rmdtree_reg2),\n",
    "              ('addboost', regr2),\n",
    "              ('xgboost', bag_reg2) \n",
    "             ] \n",
    "stacked = StackingRegressor(estimators=estimators, final_estimator=model_xgb2)\n",
    "stacked.fit(train_prepared,train_y)\n",
    "eval(stacked,test_x,test_y)"
   ]
  },
  {
   "cell_type": "markdown",
   "id": "b3f99650-2d08-49d8-a45f-c8fc391c77aa",
   "metadata": {},
   "source": [
    "I would have expected this to have a reduced error which is surprising, I will try and investigate further"
   ]
  },
  {
   "cell_type": "markdown",
   "id": "7c7ceba4-4b49-4107-a28f-2b0e66c5cf62",
   "metadata": {},
   "source": [
    "# Future work\n",
    "* Try to find all the transformations that could help improve the model"
   ]
  }
 ],
 "metadata": {
  "kernelspec": {
   "display_name": "Python 3 (ipykernel)",
   "language": "python",
   "name": "python3"
  },
  "language_info": {
   "codemirror_mode": {
    "name": "ipython",
    "version": 3
   },
   "file_extension": ".py",
   "mimetype": "text/x-python",
   "name": "python",
   "nbconvert_exporter": "python",
   "pygments_lexer": "ipython3",
   "version": "3.9.6"
  }
 },
 "nbformat": 4,
 "nbformat_minor": 5
}
